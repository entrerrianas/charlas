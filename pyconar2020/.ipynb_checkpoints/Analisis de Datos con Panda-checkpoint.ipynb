{
 "cells": [
  {
   "cell_type": "markdown",
   "metadata": {
    "slideshow": {
     "slide_type": "slide"
    }
   },
   "source": [
    "<img src=\"logopyconar2020.png\" alt=\"\" width=\"400px\" align=\"center\"/>\n",
    "\n",
    "\n",
    "# Taller de Análisis de datos con Panda\n",
    "## Sofía Martin\n"
   ]
  },
  {
   "cell_type": "markdown",
   "metadata": {
    "slideshow": {
     "slide_type": "slide"
    }
   },
   "source": [
    "* Docente\n",
    "* Taller opcional\n",
    "* Generar interés"
   ]
  },
  {
   "cell_type": "markdown",
   "metadata": {
    "slideshow": {
     "slide_type": "slide"
    }
   },
   "source": [
    "#  ¿Te gusta analizar datos y realizar gráficos?\n"
   ]
  },
  {
   "cell_type": "markdown",
   "metadata": {
    "slideshow": {
     "slide_type": "fragment"
    }
   },
   "source": [
    "## ¿Querés aprender a hacerlos con Panda y MatploLib?"
   ]
  },
  {
   "cell_type": "markdown",
   "metadata": {
    "slideshow": {
     "slide_type": "slide"
    }
   },
   "source": [
    "# ¿Qué les voy a contar hoy?\n",
    "* Sobre Panda\n",
    "* Un poco de Jupyter Notebook\n",
    "* y cómo graficar con MatploLib"
   ]
  },
  {
   "cell_type": "markdown",
   "metadata": {
    "slideshow": {
     "slide_type": "slide"
    }
   },
   "source": [
    "**Ciencia de datos:** en palabras simples, podemos decir que la \"ciencia de datos\" permite analizar datos empleando técnicas de programación.\n",
    "\n",
    "Más info en https://bitsandbricks.github.io/ciencia_de_datos_gente_sociable/index.html\n",
    "\n",
    "\n",
    "Los lenguajes de programación más utilizados para esto: Python y R\n"
   ]
  },
  {
   "cell_type": "markdown",
   "metadata": {
    "slideshow": {
     "slide_type": "slide"
    }
   },
   "source": [
    "# Pandas:\n",
    "## Usando Python para análisis de datos\n",
    "\n",
    "**Pandas:** es una herramienta que permite manipular datos usando Python. \n",
    "\n",
    "Sitio oficial: https://pandas.pydata.org/\n",
    "\n",
    "Más [info](https://www.learnpython.org/es/Pandas%20Basics)\n"
   ]
  },
  {
   "cell_type": "markdown",
   "metadata": {
    "slideshow": {
     "slide_type": "slide"
    }
   },
   "source": [
    "* ¿Qué es Pandas?\n",
    "* ¿Qué nos permite hacer?\n",
    "* ¿Por qué usarla?\n"
   ]
  },
  {
   "cell_type": "markdown",
   "metadata": {
    "slideshow": {
     "slide_type": "fragment"
    }
   },
   "source": [
    "## Simplificación para:\n",
    "* Manejo de datos para su análisis\n",
    "* Agrupación de datos\n",
    "* Uso de estadísticas"
   ]
  },
  {
   "cell_type": "markdown",
   "metadata": {
    "slideshow": {
     "slide_type": "slide"
    }
   },
   "source": [
    "# ¿Por qué estoy usando Jupyter Notebook?\n"
   ]
  },
  {
   "cell_type": "code",
   "execution_count": 12,
   "metadata": {
    "slideshow": {
     "slide_type": "fragment"
    }
   },
   "outputs": [
    {
     "name": "stdout",
     "output_type": "stream",
     "text": [
      "Hola PyconAr 2019\n",
      "Hola\n"
     ]
    }
   ],
   "source": [
    "# ejemplos\n",
    "print(\"Hola PyconAr 2019\")\n",
    "x= \"Hola\"\n",
    "print(x)"
   ]
  },
  {
   "cell_type": "markdown",
   "metadata": {
    "slideshow": {
     "slide_type": "slide"
    }
   },
   "source": [
    "\n",
    "# Veremos con un ejemplo algunas de las funcionalidades de Panda\n"
   ]
  },
  {
   "cell_type": "markdown",
   "metadata": {
    "slideshow": {
     "slide_type": "slide"
    }
   },
   "source": [
    "# Objetivo\n",
    "Procesar información sobre el porcentaje de mujeres inscriptas en carreras tecnológicas de la UNLP entre el período 2010-2015.\n",
    "\n",
    "La información la obtuve del sitio:\n",
    "http://mujeresprogramadoras.com.ar/\n"
   ]
  },
  {
   "cell_type": "code",
   "execution_count": 13,
   "metadata": {
    "slideshow": {
     "slide_type": "fragment"
    }
   },
   "outputs": [],
   "source": [
    "import pandas as pd\n",
    "from matplotlib import pyplot as plt\n",
    "%matplotlib inline"
   ]
  },
  {
   "cell_type": "markdown",
   "metadata": {
    "slideshow": {
     "slide_type": "fragment"
    }
   },
   "source": [
    "**%matplotlib inline** [permite](https://ipython.readthedocs.io/en/stable/interactive/plotting.html) incorporar las gráficas en este documento (sin que se abra una nueva ventana para cada gráfica).\n",
    "\n",
    "Veamos el contenido del directorio donde estamos trabajando:"
   ]
  },
  {
   "cell_type": "code",
   "execution_count": 14,
   "metadata": {
    "slideshow": {
     "slide_type": "slide"
    }
   },
   "outputs": [
    {
     "name": "stdout",
     "output_type": "stream",
     "text": [
      "Todas_las_carreras27032018.csv\r\n"
     ]
    }
   ],
   "source": [
    "!ls *.csv"
   ]
  },
  {
   "cell_type": "markdown",
   "metadata": {
    "slideshow": {
     "slide_type": "notes"
    }
   },
   "source": [
    "! calls out to a shell (in a new process), while % affects the process associated with the notebook (or the notebook itself; many % commands have no shell counterpart).\n",
    "!cd foo, by itself, has no lasting effect, since the process with the changed directory immediayely terminates. %cd foo changes the current directory of the notebook process, which is a lasting effect."
   ]
  },
  {
   "cell_type": "markdown",
   "metadata": {
    "slideshow": {
     "slide_type": "slide"
    }
   },
   "source": [
    "# Observamos y depuramos los datos\n",
    "En el archivo original hay datos que no nos sirven, por lo tanto vamos a depurarlo."
   ]
  },
  {
   "cell_type": "code",
   "execution_count": 15,
   "metadata": {
    "slideshow": {
     "slide_type": "slide"
    }
   },
   "outputs": [
    {
     "data": {
      "text/html": [
       "<div>\n",
       "<style scoped>\n",
       "    .dataframe tbody tr th:only-of-type {\n",
       "        vertical-align: middle;\n",
       "    }\n",
       "\n",
       "    .dataframe tbody tr th {\n",
       "        vertical-align: top;\n",
       "    }\n",
       "\n",
       "    .dataframe thead th {\n",
       "        text-align: right;\n",
       "    }\n",
       "</style>\n",
       "<table border=\"1\" class=\"dataframe\">\n",
       "  <thead>\n",
       "    <tr style=\"text-align: right;\">\n",
       "      <th></th>\n",
       "      <th>Año</th>\n",
       "      <th>Tipo de Institución</th>\n",
       "      <th>Institución</th>\n",
       "      <th>Unidad Académica</th>\n",
       "      <th>Carrera</th>\n",
       "      <th>Título</th>\n",
       "      <th>Gestión</th>\n",
       "      <th>Nivel de la Oferta</th>\n",
       "      <th>Total de Estudiantes</th>\n",
       "      <th>Estudiantes Varones</th>\n",
       "      <th>...</th>\n",
       "      <th>Total de Nuevos Inscriptos</th>\n",
       "      <th>Nuevos Inscriptos Varones</th>\n",
       "      <th>Nuevas Inscriptas Mujeres</th>\n",
       "      <th>Total de Reinscriptos</th>\n",
       "      <th>Reinscriptos Varones</th>\n",
       "      <th>Reinscriptos Mujeres</th>\n",
       "      <th>Total de Egresados</th>\n",
       "      <th>Egresados Varones</th>\n",
       "      <th>Egresados Mujeres</th>\n",
       "      <th>Unnamed: 20</th>\n",
       "    </tr>\n",
       "  </thead>\n",
       "  <tbody>\n",
       "    <tr>\n",
       "      <th>0</th>\n",
       "      <td>2010.0</td>\n",
       "      <td>Universidad                                   ...</td>\n",
       "      <td>Universidad CAECE</td>\n",
       "      <td>Departamento de Sistemas</td>\n",
       "      <td>Computación, Sistemas e Informática</td>\n",
       "      <td>Licenciatura en Ciencias de la Computación</td>\n",
       "      <td>Privada                                       ...</td>\n",
       "      <td>Grado</td>\n",
       "      <td>30</td>\n",
       "      <td>29</td>\n",
       "      <td>...</td>\n",
       "      <td>1</td>\n",
       "      <td>1.0</td>\n",
       "      <td>NaN</td>\n",
       "      <td>29</td>\n",
       "      <td>28</td>\n",
       "      <td>1.0</td>\n",
       "      <td>6.0</td>\n",
       "      <td>6.0</td>\n",
       "      <td>NaN</td>\n",
       "      <td>NaN</td>\n",
       "    </tr>\n",
       "    <tr>\n",
       "      <th>1</th>\n",
       "      <td>2010.0</td>\n",
       "      <td>Universidad                                   ...</td>\n",
       "      <td>Universidad Nacional de Córdoba</td>\n",
       "      <td>Facultad de Matemáticas, Astronomía y Física</td>\n",
       "      <td>Computación, Sistemas e Informática</td>\n",
       "      <td>Licenciatura en Ciencias de la Computación</td>\n",
       "      <td>Estatal                                       ...</td>\n",
       "      <td>Grado</td>\n",
       "      <td>625</td>\n",
       "      <td>497</td>\n",
       "      <td>...</td>\n",
       "      <td>161</td>\n",
       "      <td>123.0</td>\n",
       "      <td>38.0</td>\n",
       "      <td>464</td>\n",
       "      <td>374</td>\n",
       "      <td>90.0</td>\n",
       "      <td>13.0</td>\n",
       "      <td>12.0</td>\n",
       "      <td>1.0</td>\n",
       "      <td>NaN</td>\n",
       "    </tr>\n",
       "    <tr>\n",
       "      <th>2</th>\n",
       "      <td>2010.0</td>\n",
       "      <td>Universidad                                   ...</td>\n",
       "      <td>Universidad Nacional de Rosario</td>\n",
       "      <td>Facultad de Ciencias Exactas, Ingeniería y Agr...</td>\n",
       "      <td>Computación, Sistemas e Informática</td>\n",
       "      <td>Licenciatura en Ciencias de la Computación</td>\n",
       "      <td>Estatal                                       ...</td>\n",
       "      <td>Grado</td>\n",
       "      <td>298</td>\n",
       "      <td>260</td>\n",
       "      <td>...</td>\n",
       "      <td>60</td>\n",
       "      <td>55.0</td>\n",
       "      <td>5.0</td>\n",
       "      <td>238</td>\n",
       "      <td>205</td>\n",
       "      <td>33.0</td>\n",
       "      <td>20.0</td>\n",
       "      <td>20.0</td>\n",
       "      <td>NaN</td>\n",
       "      <td>NaN</td>\n",
       "    </tr>\n",
       "    <tr>\n",
       "      <th>3</th>\n",
       "      <td>2010.0</td>\n",
       "      <td>Universidad                                   ...</td>\n",
       "      <td>Universidad Nacional de Río Cuarto</td>\n",
       "      <td>Facultad de Ciencias Exactas, Físico-Químicas ...</td>\n",
       "      <td>Computación, Sistemas e Informática</td>\n",
       "      <td>Licenciatura en Ciencias de la Computación</td>\n",
       "      <td>Estatal                                       ...</td>\n",
       "      <td>Grado</td>\n",
       "      <td>259</td>\n",
       "      <td>216</td>\n",
       "      <td>...</td>\n",
       "      <td>62</td>\n",
       "      <td>51.0</td>\n",
       "      <td>11.0</td>\n",
       "      <td>197</td>\n",
       "      <td>165</td>\n",
       "      <td>32.0</td>\n",
       "      <td>11.0</td>\n",
       "      <td>9.0</td>\n",
       "      <td>2.0</td>\n",
       "      <td>NaN</td>\n",
       "    </tr>\n",
       "    <tr>\n",
       "      <th>4</th>\n",
       "      <td>2010.0</td>\n",
       "      <td>Universidad                                   ...</td>\n",
       "      <td>Universidad Nacional de San Juan</td>\n",
       "      <td>Facultad de Ciencias Exactas, Físicas y Naturales</td>\n",
       "      <td>Computación, Sistemas e Informática</td>\n",
       "      <td>Licenciatura en Ciencias de la Computación</td>\n",
       "      <td>Estatal                                       ...</td>\n",
       "      <td>Grado</td>\n",
       "      <td>340</td>\n",
       "      <td>273</td>\n",
       "      <td>...</td>\n",
       "      <td>107</td>\n",
       "      <td>92.0</td>\n",
       "      <td>15.0</td>\n",
       "      <td>233</td>\n",
       "      <td>181</td>\n",
       "      <td>52.0</td>\n",
       "      <td>NaN</td>\n",
       "      <td>NaN</td>\n",
       "      <td>NaN</td>\n",
       "      <td>NaN</td>\n",
       "    </tr>\n",
       "    <tr>\n",
       "      <th>...</th>\n",
       "      <td>...</td>\n",
       "      <td>...</td>\n",
       "      <td>...</td>\n",
       "      <td>...</td>\n",
       "      <td>...</td>\n",
       "      <td>...</td>\n",
       "      <td>...</td>\n",
       "      <td>...</td>\n",
       "      <td>...</td>\n",
       "      <td>...</td>\n",
       "      <td>...</td>\n",
       "      <td>...</td>\n",
       "      <td>...</td>\n",
       "      <td>...</td>\n",
       "      <td>...</td>\n",
       "      <td>...</td>\n",
       "      <td>...</td>\n",
       "      <td>...</td>\n",
       "      <td>...</td>\n",
       "      <td>...</td>\n",
       "      <td>...</td>\n",
       "    </tr>\n",
       "    <tr>\n",
       "      <th>1709</th>\n",
       "      <td>2012.0</td>\n",
       "      <td>Universidad                                   ...</td>\n",
       "      <td>Universidad de Buenos Aires</td>\n",
       "      <td>Facultad de Ciencias Exactas y Naturales</td>\n",
       "      <td>Computación, Sistemas e Informática</td>\n",
       "      <td>Analista Universitario de Computación</td>\n",
       "      <td>Estatal                                       ...</td>\n",
       "      <td>Pregrado</td>\n",
       "      <td>NaN</td>\n",
       "      <td>NaN</td>\n",
       "      <td>...</td>\n",
       "      <td>NaN</td>\n",
       "      <td>NaN</td>\n",
       "      <td>NaN</td>\n",
       "      <td>NaN</td>\n",
       "      <td>NaN</td>\n",
       "      <td>NaN</td>\n",
       "      <td>24.0</td>\n",
       "      <td>21.0</td>\n",
       "      <td>3.0</td>\n",
       "      <td>NaN</td>\n",
       "    </tr>\n",
       "    <tr>\n",
       "      <th>1710</th>\n",
       "      <td>2013.0</td>\n",
       "      <td>Universidad                                   ...</td>\n",
       "      <td>Universidad de Buenos Aires</td>\n",
       "      <td>Facultad de Ciencias Exactas y Naturales</td>\n",
       "      <td>Computación, Sistemas e Informática</td>\n",
       "      <td>Analista Universitario de Computación</td>\n",
       "      <td>Estatal                                       ...</td>\n",
       "      <td>Pregrado</td>\n",
       "      <td>NaN</td>\n",
       "      <td>NaN</td>\n",
       "      <td>...</td>\n",
       "      <td>NaN</td>\n",
       "      <td>NaN</td>\n",
       "      <td>NaN</td>\n",
       "      <td>NaN</td>\n",
       "      <td>NaN</td>\n",
       "      <td>NaN</td>\n",
       "      <td>30.0</td>\n",
       "      <td>27.0</td>\n",
       "      <td>3.0</td>\n",
       "      <td>NaN</td>\n",
       "    </tr>\n",
       "    <tr>\n",
       "      <th>1711</th>\n",
       "      <td>2014.0</td>\n",
       "      <td>Universidad                                   ...</td>\n",
       "      <td>Universidad de Buenos Aires</td>\n",
       "      <td>Facultad de Ciencias Exactas y Naturales</td>\n",
       "      <td>Computación, Sistemas e Informática</td>\n",
       "      <td>Analista Universitario de Computación</td>\n",
       "      <td>Estatal                                       ...</td>\n",
       "      <td>Pregrado</td>\n",
       "      <td>NaN</td>\n",
       "      <td>NaN</td>\n",
       "      <td>...</td>\n",
       "      <td>NaN</td>\n",
       "      <td>NaN</td>\n",
       "      <td>NaN</td>\n",
       "      <td>NaN</td>\n",
       "      <td>NaN</td>\n",
       "      <td>NaN</td>\n",
       "      <td>31.0</td>\n",
       "      <td>29.0</td>\n",
       "      <td>2.0</td>\n",
       "      <td>NaN</td>\n",
       "    </tr>\n",
       "    <tr>\n",
       "      <th>1712</th>\n",
       "      <td>2015.0</td>\n",
       "      <td>Universidad                                   ...</td>\n",
       "      <td>Universidad de Buenos Aires</td>\n",
       "      <td>Facultad de Ciencias Exactas y Naturales</td>\n",
       "      <td>Computación, Sistemas e Informática</td>\n",
       "      <td>Analista Universitario de Computación</td>\n",
       "      <td>Estatal                                       ...</td>\n",
       "      <td>Pregrado</td>\n",
       "      <td>NaN</td>\n",
       "      <td>NaN</td>\n",
       "      <td>...</td>\n",
       "      <td>NaN</td>\n",
       "      <td>NaN</td>\n",
       "      <td>NaN</td>\n",
       "      <td>NaN</td>\n",
       "      <td>NaN</td>\n",
       "      <td>NaN</td>\n",
       "      <td>29.0</td>\n",
       "      <td>25.0</td>\n",
       "      <td>4.0</td>\n",
       "      <td>NaN</td>\n",
       "    </tr>\n",
       "    <tr>\n",
       "      <th>1713</th>\n",
       "      <td>NaN</td>\n",
       "      <td>NaN</td>\n",
       "      <td>NaN</td>\n",
       "      <td>NaN</td>\n",
       "      <td>NaN</td>\n",
       "      <td>NaN</td>\n",
       "      <td>NaN</td>\n",
       "      <td>NaN</td>\n",
       "      <td>NaN</td>\n",
       "      <td>NaN</td>\n",
       "      <td>...</td>\n",
       "      <td>NaN</td>\n",
       "      <td>NaN</td>\n",
       "      <td>NaN</td>\n",
       "      <td>NaN</td>\n",
       "      <td>NaN</td>\n",
       "      <td>NaN</td>\n",
       "      <td>NaN</td>\n",
       "      <td>NaN</td>\n",
       "      <td>NaN</td>\n",
       "      <td>NaN</td>\n",
       "    </tr>\n",
       "  </tbody>\n",
       "</table>\n",
       "<p>1714 rows × 21 columns</p>\n",
       "</div>"
      ],
      "text/plain": [
       "         Año                                Tipo de Institución  \\\n",
       "0     2010.0  Universidad                                   ...   \n",
       "1     2010.0  Universidad                                   ...   \n",
       "2     2010.0  Universidad                                   ...   \n",
       "3     2010.0  Universidad                                   ...   \n",
       "4     2010.0  Universidad                                   ...   \n",
       "...      ...                                                ...   \n",
       "1709  2012.0  Universidad                                   ...   \n",
       "1710  2013.0  Universidad                                   ...   \n",
       "1711  2014.0  Universidad                                   ...   \n",
       "1712  2015.0  Universidad                                   ...   \n",
       "1713     NaN                                                NaN   \n",
       "\n",
       "                             Institución  \\\n",
       "0                      Universidad CAECE   \n",
       "1        Universidad Nacional de Córdoba   \n",
       "2        Universidad Nacional de Rosario   \n",
       "3     Universidad Nacional de Río Cuarto   \n",
       "4       Universidad Nacional de San Juan   \n",
       "...                                  ...   \n",
       "1709         Universidad de Buenos Aires   \n",
       "1710         Universidad de Buenos Aires   \n",
       "1711         Universidad de Buenos Aires   \n",
       "1712         Universidad de Buenos Aires   \n",
       "1713                                 NaN   \n",
       "\n",
       "                                       Unidad Académica  \\\n",
       "0                              Departamento de Sistemas   \n",
       "1          Facultad de Matemáticas, Astronomía y Física   \n",
       "2     Facultad de Ciencias Exactas, Ingeniería y Agr...   \n",
       "3     Facultad de Ciencias Exactas, Físico-Químicas ...   \n",
       "4     Facultad de Ciencias Exactas, Físicas y Naturales   \n",
       "...                                                 ...   \n",
       "1709           Facultad de Ciencias Exactas y Naturales   \n",
       "1710           Facultad de Ciencias Exactas y Naturales   \n",
       "1711           Facultad de Ciencias Exactas y Naturales   \n",
       "1712           Facultad de Ciencias Exactas y Naturales   \n",
       "1713                                                NaN   \n",
       "\n",
       "                                  Carrera  \\\n",
       "0     Computación, Sistemas e Informática   \n",
       "1     Computación, Sistemas e Informática   \n",
       "2     Computación, Sistemas e Informática   \n",
       "3     Computación, Sistemas e Informática   \n",
       "4     Computación, Sistemas e Informática   \n",
       "...                                   ...   \n",
       "1709  Computación, Sistemas e Informática   \n",
       "1710  Computación, Sistemas e Informática   \n",
       "1711  Computación, Sistemas e Informática   \n",
       "1712  Computación, Sistemas e Informática   \n",
       "1713                                  NaN   \n",
       "\n",
       "                                          Título  \\\n",
       "0     Licenciatura en Ciencias de la Computación   \n",
       "1     Licenciatura en Ciencias de la Computación   \n",
       "2     Licenciatura en Ciencias de la Computación   \n",
       "3     Licenciatura en Ciencias de la Computación   \n",
       "4     Licenciatura en Ciencias de la Computación   \n",
       "...                                          ...   \n",
       "1709       Analista Universitario de Computación   \n",
       "1710       Analista Universitario de Computación   \n",
       "1711       Analista Universitario de Computación   \n",
       "1712       Analista Universitario de Computación   \n",
       "1713                                         NaN   \n",
       "\n",
       "                                                Gestión    Nivel de la Oferta  \\\n",
       "0     Privada                                       ...  Grado                  \n",
       "1     Estatal                                       ...  Grado                  \n",
       "2     Estatal                                       ...  Grado                  \n",
       "3     Estatal                                       ...  Grado                  \n",
       "4     Estatal                                       ...  Grado                  \n",
       "...                                                 ...                   ...   \n",
       "1709  Estatal                                       ...  Pregrado               \n",
       "1710  Estatal                                       ...  Pregrado               \n",
       "1711  Estatal                                       ...  Pregrado               \n",
       "1712  Estatal                                       ...  Pregrado               \n",
       "1713                                                NaN                   NaN   \n",
       "\n",
       "     Total de Estudiantes Estudiantes Varones  ...  \\\n",
       "0                      30                  29  ...   \n",
       "1                     625                 497  ...   \n",
       "2                     298                 260  ...   \n",
       "3                     259                 216  ...   \n",
       "4                     340                 273  ...   \n",
       "...                   ...                 ...  ...   \n",
       "1709                  NaN                 NaN  ...   \n",
       "1710                  NaN                 NaN  ...   \n",
       "1711                  NaN                 NaN  ...   \n",
       "1712                  NaN                 NaN  ...   \n",
       "1713                  NaN                 NaN  ...   \n",
       "\n",
       "      Total de Nuevos Inscriptos Nuevos Inscriptos Varones  \\\n",
       "0                              1                       1.0   \n",
       "1                            161                     123.0   \n",
       "2                             60                      55.0   \n",
       "3                             62                      51.0   \n",
       "4                            107                      92.0   \n",
       "...                          ...                       ...   \n",
       "1709                         NaN                       NaN   \n",
       "1710                         NaN                       NaN   \n",
       "1711                         NaN                       NaN   \n",
       "1712                         NaN                       NaN   \n",
       "1713                         NaN                       NaN   \n",
       "\n",
       "      Nuevas Inscriptas Mujeres  Total de Reinscriptos Reinscriptos Varones  \\\n",
       "0                           NaN                     29                   28   \n",
       "1                          38.0                    464                  374   \n",
       "2                           5.0                    238                  205   \n",
       "3                          11.0                    197                  165   \n",
       "4                          15.0                    233                  181   \n",
       "...                         ...                    ...                  ...   \n",
       "1709                        NaN                    NaN                  NaN   \n",
       "1710                        NaN                    NaN                  NaN   \n",
       "1711                        NaN                    NaN                  NaN   \n",
       "1712                        NaN                    NaN                  NaN   \n",
       "1713                        NaN                    NaN                  NaN   \n",
       "\n",
       "     Reinscriptos Mujeres  Total de Egresados  Egresados Varones  \\\n",
       "0                     1.0                 6.0                6.0   \n",
       "1                    90.0                13.0               12.0   \n",
       "2                    33.0                20.0               20.0   \n",
       "3                    32.0                11.0                9.0   \n",
       "4                    52.0                 NaN                NaN   \n",
       "...                   ...                 ...                ...   \n",
       "1709                  NaN                24.0               21.0   \n",
       "1710                  NaN                30.0               27.0   \n",
       "1711                  NaN                31.0               29.0   \n",
       "1712                  NaN                29.0               25.0   \n",
       "1713                  NaN                 NaN                NaN   \n",
       "\n",
       "      Egresados Mujeres  Unnamed: 20  \n",
       "0                   NaN          NaN  \n",
       "1                   1.0          NaN  \n",
       "2                   NaN          NaN  \n",
       "3                   2.0          NaN  \n",
       "4                   NaN          NaN  \n",
       "...                 ...          ...  \n",
       "1709                3.0          NaN  \n",
       "1710                3.0          NaN  \n",
       "1711                2.0          NaN  \n",
       "1712                4.0          NaN  \n",
       "1713                NaN          NaN  \n",
       "\n",
       "[1714 rows x 21 columns]"
      ]
     },
     "execution_count": 15,
     "metadata": {},
     "output_type": "execute_result"
    }
   ],
   "source": [
    "sample_data = pd.read_csv('Todas_las_carreras27032018.csv')\n",
    "\n",
    "sample_data"
   ]
  },
  {
   "cell_type": "markdown",
   "metadata": {
    "slideshow": {
     "slide_type": "slide"
    }
   },
   "source": [
    "Antes que nada: ¿de qué tipo de sample_data?"
   ]
  },
  {
   "cell_type": "code",
   "execution_count": 7,
   "metadata": {
    "slideshow": {
     "slide_type": "fragment"
    }
   },
   "outputs": [
    {
     "data": {
      "text/plain": [
       "pandas.core.frame.DataFrame"
      ]
     },
     "execution_count": 7,
     "metadata": {},
     "output_type": "execute_result"
    }
   ],
   "source": [
    "type(sample_data)"
   ]
  },
  {
   "cell_type": "markdown",
   "metadata": {
    "slideshow": {
     "slide_type": "slide"
    }
   },
   "source": [
    "Si observamos los datos, la última fila tiene información que \n",
    "\n",
    "no nos interesa, por lo tanto, la vamos a descartar:"
   ]
  },
  {
   "cell_type": "code",
   "execution_count": 17,
   "metadata": {
    "slideshow": {
     "slide_type": "fragment"
    }
   },
   "outputs": [],
   "source": [
    "sample_data = sample_data.iloc[:-1]"
   ]
  },
  {
   "cell_type": "code",
   "execution_count": 18,
   "metadata": {
    "slideshow": {
     "slide_type": "fragment"
    }
   },
   "outputs": [
    {
     "data": {
      "text/html": [
       "<div>\n",
       "<style scoped>\n",
       "    .dataframe tbody tr th:only-of-type {\n",
       "        vertical-align: middle;\n",
       "    }\n",
       "\n",
       "    .dataframe tbody tr th {\n",
       "        vertical-align: top;\n",
       "    }\n",
       "\n",
       "    .dataframe thead th {\n",
       "        text-align: right;\n",
       "    }\n",
       "</style>\n",
       "<table border=\"1\" class=\"dataframe\">\n",
       "  <thead>\n",
       "    <tr style=\"text-align: right;\">\n",
       "      <th></th>\n",
       "      <th>Año</th>\n",
       "      <th>Tipo de Institución</th>\n",
       "      <th>Institución</th>\n",
       "      <th>Unidad Académica</th>\n",
       "      <th>Carrera</th>\n",
       "      <th>Título</th>\n",
       "      <th>Gestión</th>\n",
       "      <th>Nivel de la Oferta</th>\n",
       "      <th>Total de Estudiantes</th>\n",
       "      <th>Estudiantes Varones</th>\n",
       "      <th>...</th>\n",
       "      <th>Total de Nuevos Inscriptos</th>\n",
       "      <th>Nuevos Inscriptos Varones</th>\n",
       "      <th>Nuevas Inscriptas Mujeres</th>\n",
       "      <th>Total de Reinscriptos</th>\n",
       "      <th>Reinscriptos Varones</th>\n",
       "      <th>Reinscriptos Mujeres</th>\n",
       "      <th>Total de Egresados</th>\n",
       "      <th>Egresados Varones</th>\n",
       "      <th>Egresados Mujeres</th>\n",
       "      <th>Unnamed: 20</th>\n",
       "    </tr>\n",
       "  </thead>\n",
       "  <tbody>\n",
       "    <tr>\n",
       "      <th>1708</th>\n",
       "      <td>2011.0</td>\n",
       "      <td>Universidad                                   ...</td>\n",
       "      <td>Universidad de Buenos Aires</td>\n",
       "      <td>Facultad de Ciencias Exactas y Naturales</td>\n",
       "      <td>Computación, Sistemas e Informática</td>\n",
       "      <td>Analista Universitario de Computación</td>\n",
       "      <td>Estatal                                       ...</td>\n",
       "      <td>Pregrado</td>\n",
       "      <td>NaN</td>\n",
       "      <td>NaN</td>\n",
       "      <td>...</td>\n",
       "      <td>NaN</td>\n",
       "      <td>NaN</td>\n",
       "      <td>NaN</td>\n",
       "      <td>NaN</td>\n",
       "      <td>NaN</td>\n",
       "      <td>NaN</td>\n",
       "      <td>32.0</td>\n",
       "      <td>26.0</td>\n",
       "      <td>6.0</td>\n",
       "      <td>NaN</td>\n",
       "    </tr>\n",
       "    <tr>\n",
       "      <th>1709</th>\n",
       "      <td>2012.0</td>\n",
       "      <td>Universidad                                   ...</td>\n",
       "      <td>Universidad de Buenos Aires</td>\n",
       "      <td>Facultad de Ciencias Exactas y Naturales</td>\n",
       "      <td>Computación, Sistemas e Informática</td>\n",
       "      <td>Analista Universitario de Computación</td>\n",
       "      <td>Estatal                                       ...</td>\n",
       "      <td>Pregrado</td>\n",
       "      <td>NaN</td>\n",
       "      <td>NaN</td>\n",
       "      <td>...</td>\n",
       "      <td>NaN</td>\n",
       "      <td>NaN</td>\n",
       "      <td>NaN</td>\n",
       "      <td>NaN</td>\n",
       "      <td>NaN</td>\n",
       "      <td>NaN</td>\n",
       "      <td>24.0</td>\n",
       "      <td>21.0</td>\n",
       "      <td>3.0</td>\n",
       "      <td>NaN</td>\n",
       "    </tr>\n",
       "    <tr>\n",
       "      <th>1710</th>\n",
       "      <td>2013.0</td>\n",
       "      <td>Universidad                                   ...</td>\n",
       "      <td>Universidad de Buenos Aires</td>\n",
       "      <td>Facultad de Ciencias Exactas y Naturales</td>\n",
       "      <td>Computación, Sistemas e Informática</td>\n",
       "      <td>Analista Universitario de Computación</td>\n",
       "      <td>Estatal                                       ...</td>\n",
       "      <td>Pregrado</td>\n",
       "      <td>NaN</td>\n",
       "      <td>NaN</td>\n",
       "      <td>...</td>\n",
       "      <td>NaN</td>\n",
       "      <td>NaN</td>\n",
       "      <td>NaN</td>\n",
       "      <td>NaN</td>\n",
       "      <td>NaN</td>\n",
       "      <td>NaN</td>\n",
       "      <td>30.0</td>\n",
       "      <td>27.0</td>\n",
       "      <td>3.0</td>\n",
       "      <td>NaN</td>\n",
       "    </tr>\n",
       "    <tr>\n",
       "      <th>1711</th>\n",
       "      <td>2014.0</td>\n",
       "      <td>Universidad                                   ...</td>\n",
       "      <td>Universidad de Buenos Aires</td>\n",
       "      <td>Facultad de Ciencias Exactas y Naturales</td>\n",
       "      <td>Computación, Sistemas e Informática</td>\n",
       "      <td>Analista Universitario de Computación</td>\n",
       "      <td>Estatal                                       ...</td>\n",
       "      <td>Pregrado</td>\n",
       "      <td>NaN</td>\n",
       "      <td>NaN</td>\n",
       "      <td>...</td>\n",
       "      <td>NaN</td>\n",
       "      <td>NaN</td>\n",
       "      <td>NaN</td>\n",
       "      <td>NaN</td>\n",
       "      <td>NaN</td>\n",
       "      <td>NaN</td>\n",
       "      <td>31.0</td>\n",
       "      <td>29.0</td>\n",
       "      <td>2.0</td>\n",
       "      <td>NaN</td>\n",
       "    </tr>\n",
       "    <tr>\n",
       "      <th>1712</th>\n",
       "      <td>2015.0</td>\n",
       "      <td>Universidad                                   ...</td>\n",
       "      <td>Universidad de Buenos Aires</td>\n",
       "      <td>Facultad de Ciencias Exactas y Naturales</td>\n",
       "      <td>Computación, Sistemas e Informática</td>\n",
       "      <td>Analista Universitario de Computación</td>\n",
       "      <td>Estatal                                       ...</td>\n",
       "      <td>Pregrado</td>\n",
       "      <td>NaN</td>\n",
       "      <td>NaN</td>\n",
       "      <td>...</td>\n",
       "      <td>NaN</td>\n",
       "      <td>NaN</td>\n",
       "      <td>NaN</td>\n",
       "      <td>NaN</td>\n",
       "      <td>NaN</td>\n",
       "      <td>NaN</td>\n",
       "      <td>29.0</td>\n",
       "      <td>25.0</td>\n",
       "      <td>4.0</td>\n",
       "      <td>NaN</td>\n",
       "    </tr>\n",
       "  </tbody>\n",
       "</table>\n",
       "<p>5 rows × 21 columns</p>\n",
       "</div>"
      ],
      "text/plain": [
       "         Año                                Tipo de Institución  \\\n",
       "1708  2011.0  Universidad                                   ...   \n",
       "1709  2012.0  Universidad                                   ...   \n",
       "1710  2013.0  Universidad                                   ...   \n",
       "1711  2014.0  Universidad                                   ...   \n",
       "1712  2015.0  Universidad                                   ...   \n",
       "\n",
       "                      Institución                          Unidad Académica  \\\n",
       "1708  Universidad de Buenos Aires  Facultad de Ciencias Exactas y Naturales   \n",
       "1709  Universidad de Buenos Aires  Facultad de Ciencias Exactas y Naturales   \n",
       "1710  Universidad de Buenos Aires  Facultad de Ciencias Exactas y Naturales   \n",
       "1711  Universidad de Buenos Aires  Facultad de Ciencias Exactas y Naturales   \n",
       "1712  Universidad de Buenos Aires  Facultad de Ciencias Exactas y Naturales   \n",
       "\n",
       "                                  Carrera  \\\n",
       "1708  Computación, Sistemas e Informática   \n",
       "1709  Computación, Sistemas e Informática   \n",
       "1710  Computación, Sistemas e Informática   \n",
       "1711  Computación, Sistemas e Informática   \n",
       "1712  Computación, Sistemas e Informática   \n",
       "\n",
       "                                     Título  \\\n",
       "1708  Analista Universitario de Computación   \n",
       "1709  Analista Universitario de Computación   \n",
       "1710  Analista Universitario de Computación   \n",
       "1711  Analista Universitario de Computación   \n",
       "1712  Analista Universitario de Computación   \n",
       "\n",
       "                                                Gestión    Nivel de la Oferta  \\\n",
       "1708  Estatal                                       ...  Pregrado               \n",
       "1709  Estatal                                       ...  Pregrado               \n",
       "1710  Estatal                                       ...  Pregrado               \n",
       "1711  Estatal                                       ...  Pregrado               \n",
       "1712  Estatal                                       ...  Pregrado               \n",
       "\n",
       "     Total de Estudiantes Estudiantes Varones  ...  \\\n",
       "1708                  NaN                 NaN  ...   \n",
       "1709                  NaN                 NaN  ...   \n",
       "1710                  NaN                 NaN  ...   \n",
       "1711                  NaN                 NaN  ...   \n",
       "1712                  NaN                 NaN  ...   \n",
       "\n",
       "      Total de Nuevos Inscriptos Nuevos Inscriptos Varones  \\\n",
       "1708                         NaN                       NaN   \n",
       "1709                         NaN                       NaN   \n",
       "1710                         NaN                       NaN   \n",
       "1711                         NaN                       NaN   \n",
       "1712                         NaN                       NaN   \n",
       "\n",
       "      Nuevas Inscriptas Mujeres  Total de Reinscriptos Reinscriptos Varones  \\\n",
       "1708                        NaN                    NaN                  NaN   \n",
       "1709                        NaN                    NaN                  NaN   \n",
       "1710                        NaN                    NaN                  NaN   \n",
       "1711                        NaN                    NaN                  NaN   \n",
       "1712                        NaN                    NaN                  NaN   \n",
       "\n",
       "     Reinscriptos Mujeres  Total de Egresados  Egresados Varones  \\\n",
       "1708                  NaN                32.0               26.0   \n",
       "1709                  NaN                24.0               21.0   \n",
       "1710                  NaN                30.0               27.0   \n",
       "1711                  NaN                31.0               29.0   \n",
       "1712                  NaN                29.0               25.0   \n",
       "\n",
       "      Egresados Mujeres  Unnamed: 20  \n",
       "1708                6.0          NaN  \n",
       "1709                3.0          NaN  \n",
       "1710                3.0          NaN  \n",
       "1711                2.0          NaN  \n",
       "1712                4.0          NaN  \n",
       "\n",
       "[5 rows x 21 columns]"
      ]
     },
     "execution_count": 18,
     "metadata": {},
     "output_type": "execute_result"
    }
   ],
   "source": [
    "sample_data.tail()"
   ]
  },
  {
   "cell_type": "markdown",
   "metadata": {
    "slideshow": {
     "slide_type": "slide"
    }
   },
   "source": [
    "Veamos qué columnas tiene el archivo."
   ]
  },
  {
   "cell_type": "code",
   "execution_count": 19,
   "metadata": {
    "slideshow": {
     "slide_type": "fragment"
    }
   },
   "outputs": [
    {
     "data": {
      "text/plain": [
       "Index(['Año', 'Tipo de Institución', 'Institución', 'Unidad Académica',\n",
       "       'Carrera', 'Título', 'Gestión', 'Nivel de la Oferta',\n",
       "       'Total de Estudiantes', 'Estudiantes Varones', 'Estudiantes Mujeres',\n",
       "       'Total de Nuevos Inscriptos', 'Nuevos Inscriptos Varones',\n",
       "       'Nuevas Inscriptas Mujeres', 'Total de Reinscriptos',\n",
       "       'Reinscriptos Varones', 'Reinscriptos Mujeres', 'Total de Egresados',\n",
       "       'Egresados Varones', 'Egresados Mujeres', 'Unnamed: 20'],\n",
       "      dtype='object')"
      ]
     },
     "execution_count": 19,
     "metadata": {},
     "output_type": "execute_result"
    }
   ],
   "source": [
    "sample_data.columns"
   ]
  },
  {
   "cell_type": "markdown",
   "metadata": {
    "slideshow": {
     "slide_type": "slide"
    }
   },
   "source": [
    "Acceder a los datos de una columna con el nombre directamente **var_data.nombre_columna**\n",
    "\n",
    "Y si tienen espacios?:"
   ]
  },
  {
   "cell_type": "code",
   "execution_count": 37,
   "metadata": {
    "slideshow": {
     "slide_type": "fragment"
    }
   },
   "outputs": [
    {
     "data": {
      "text/plain": [
       "0         1.0\n",
       "1       128.0\n",
       "2        38.0\n",
       "3        43.0\n",
       "4        67.0\n",
       "        ...  \n",
       "1708      NaN\n",
       "1709      NaN\n",
       "1710      NaN\n",
       "1711      NaN\n",
       "1712      NaN\n",
       "Name: Estudiantes_Mujeres, Length: 1713, dtype: float64"
      ]
     },
     "execution_count": 37,
     "metadata": {},
     "output_type": "execute_result"
    }
   ],
   "source": [
    "sample_data.Estudiantes_Mujeres"
   ]
  },
  {
   "cell_type": "markdown",
   "metadata": {
    "slideshow": {
     "slide_type": "slide"
    }
   },
   "source": [
    "Deberíamos tener que acceder utilizando la otra forma:"
   ]
  },
  {
   "cell_type": "code",
   "execution_count": 38,
   "metadata": {
    "collapsed": true,
    "slideshow": {
     "slide_type": "fragment"
    }
   },
   "outputs": [
    {
     "ename": "KeyError",
     "evalue": "'Estudiantes Mujeres'",
     "output_type": "error",
     "traceback": [
      "\u001b[0;31m--------------------------------------------------------------\u001b[0m",
      "\u001b[0;31mKeyError\u001b[0m                     Traceback (most recent call last)",
      "\u001b[0;32m~/pypruebas/lib/python3.8/site-packages/pandas/core/indexes/base.py\u001b[0m in \u001b[0;36mget_loc\u001b[0;34m(self, key, method, tolerance)\u001b[0m\n\u001b[1;32m   2890\u001b[0m             \u001b[0;32mtry\u001b[0m\u001b[0;34m:\u001b[0m\u001b[0;34m\u001b[0m\u001b[0;34m\u001b[0m\u001b[0m\n\u001b[0;32m-> 2891\u001b[0;31m                 \u001b[0;32mreturn\u001b[0m \u001b[0mself\u001b[0m\u001b[0;34m.\u001b[0m\u001b[0m_engine\u001b[0m\u001b[0;34m.\u001b[0m\u001b[0mget_loc\u001b[0m\u001b[0;34m(\u001b[0m\u001b[0mcasted_key\u001b[0m\u001b[0;34m)\u001b[0m\u001b[0;34m\u001b[0m\u001b[0;34m\u001b[0m\u001b[0m\n\u001b[0m\u001b[1;32m   2892\u001b[0m             \u001b[0;32mexcept\u001b[0m \u001b[0mKeyError\u001b[0m \u001b[0;32mas\u001b[0m \u001b[0merr\u001b[0m\u001b[0;34m:\u001b[0m\u001b[0;34m\u001b[0m\u001b[0;34m\u001b[0m\u001b[0m\n",
      "\u001b[0;32mpandas/_libs/index.pyx\u001b[0m in \u001b[0;36mpandas._libs.index.IndexEngine.get_loc\u001b[0;34m()\u001b[0m\n",
      "\u001b[0;32mpandas/_libs/index.pyx\u001b[0m in \u001b[0;36mpandas._libs.index.IndexEngine.get_loc\u001b[0;34m()\u001b[0m\n",
      "\u001b[0;32mpandas/_libs/hashtable_class_helper.pxi\u001b[0m in \u001b[0;36mpandas._libs.hashtable.PyObjectHashTable.get_item\u001b[0;34m()\u001b[0m\n",
      "\u001b[0;32mpandas/_libs/hashtable_class_helper.pxi\u001b[0m in \u001b[0;36mpandas._libs.hashtable.PyObjectHashTable.get_item\u001b[0;34m()\u001b[0m\n",
      "\u001b[0;31mKeyError\u001b[0m: 'Estudiantes Mujeres'",
      "\nThe above exception was the direct cause of the following exception:\n",
      "\u001b[0;31mKeyError\u001b[0m                     Traceback (most recent call last)",
      "\u001b[0;32m<ipython-input-38-5e5eb615a22a>\u001b[0m in \u001b[0;36m<module>\u001b[0;34m\u001b[0m\n\u001b[0;32m----> 1\u001b[0;31m \u001b[0msample_data\u001b[0m\u001b[0;34m[\u001b[0m\u001b[0;34m'Estudiantes Mujeres'\u001b[0m\u001b[0;34m]\u001b[0m\u001b[0;34m\u001b[0m\u001b[0;34m\u001b[0m\u001b[0m\n\u001b[0m",
      "\u001b[0;32m~/pypruebas/lib/python3.8/site-packages/pandas/core/frame.py\u001b[0m in \u001b[0;36m__getitem__\u001b[0;34m(self, key)\u001b[0m\n\u001b[1;32m   2900\u001b[0m             \u001b[0;32mif\u001b[0m \u001b[0mself\u001b[0m\u001b[0;34m.\u001b[0m\u001b[0mcolumns\u001b[0m\u001b[0;34m.\u001b[0m\u001b[0mnlevels\u001b[0m \u001b[0;34m>\u001b[0m \u001b[0;36m1\u001b[0m\u001b[0;34m:\u001b[0m\u001b[0;34m\u001b[0m\u001b[0;34m\u001b[0m\u001b[0m\n\u001b[1;32m   2901\u001b[0m                 \u001b[0;32mreturn\u001b[0m \u001b[0mself\u001b[0m\u001b[0;34m.\u001b[0m\u001b[0m_getitem_multilevel\u001b[0m\u001b[0;34m(\u001b[0m\u001b[0mkey\u001b[0m\u001b[0;34m)\u001b[0m\u001b[0;34m\u001b[0m\u001b[0;34m\u001b[0m\u001b[0m\n\u001b[0;32m-> 2902\u001b[0;31m             \u001b[0mindexer\u001b[0m \u001b[0;34m=\u001b[0m \u001b[0mself\u001b[0m\u001b[0;34m.\u001b[0m\u001b[0mcolumns\u001b[0m\u001b[0;34m.\u001b[0m\u001b[0mget_loc\u001b[0m\u001b[0;34m(\u001b[0m\u001b[0mkey\u001b[0m\u001b[0;34m)\u001b[0m\u001b[0;34m\u001b[0m\u001b[0;34m\u001b[0m\u001b[0m\n\u001b[0m\u001b[1;32m   2903\u001b[0m             \u001b[0;32mif\u001b[0m \u001b[0mis_integer\u001b[0m\u001b[0;34m(\u001b[0m\u001b[0mindexer\u001b[0m\u001b[0;34m)\u001b[0m\u001b[0;34m:\u001b[0m\u001b[0;34m\u001b[0m\u001b[0;34m\u001b[0m\u001b[0m\n\u001b[1;32m   2904\u001b[0m                 \u001b[0mindexer\u001b[0m \u001b[0;34m=\u001b[0m \u001b[0;34m[\u001b[0m\u001b[0mindexer\u001b[0m\u001b[0;34m]\u001b[0m\u001b[0;34m\u001b[0m\u001b[0;34m\u001b[0m\u001b[0m\n",
      "\u001b[0;32m~/pypruebas/lib/python3.8/site-packages/pandas/core/indexes/base.py\u001b[0m in \u001b[0;36mget_loc\u001b[0;34m(self, key, method, tolerance)\u001b[0m\n\u001b[1;32m   2891\u001b[0m                 \u001b[0;32mreturn\u001b[0m \u001b[0mself\u001b[0m\u001b[0;34m.\u001b[0m\u001b[0m_engine\u001b[0m\u001b[0;34m.\u001b[0m\u001b[0mget_loc\u001b[0m\u001b[0;34m(\u001b[0m\u001b[0mcasted_key\u001b[0m\u001b[0;34m)\u001b[0m\u001b[0;34m\u001b[0m\u001b[0;34m\u001b[0m\u001b[0m\n\u001b[1;32m   2892\u001b[0m             \u001b[0;32mexcept\u001b[0m \u001b[0mKeyError\u001b[0m \u001b[0;32mas\u001b[0m \u001b[0merr\u001b[0m\u001b[0;34m:\u001b[0m\u001b[0;34m\u001b[0m\u001b[0;34m\u001b[0m\u001b[0m\n\u001b[0;32m-> 2893\u001b[0;31m                 \u001b[0;32mraise\u001b[0m \u001b[0mKeyError\u001b[0m\u001b[0;34m(\u001b[0m\u001b[0mkey\u001b[0m\u001b[0;34m)\u001b[0m \u001b[0;32mfrom\u001b[0m \u001b[0merr\u001b[0m\u001b[0;34m\u001b[0m\u001b[0;34m\u001b[0m\u001b[0m\n\u001b[0m\u001b[1;32m   2894\u001b[0m \u001b[0;34m\u001b[0m\u001b[0m\n\u001b[1;32m   2895\u001b[0m         \u001b[0;32mif\u001b[0m \u001b[0mtolerance\u001b[0m \u001b[0;32mis\u001b[0m \u001b[0;32mnot\u001b[0m \u001b[0;32mNone\u001b[0m\u001b[0;34m:\u001b[0m\u001b[0;34m\u001b[0m\u001b[0;34m\u001b[0m\u001b[0m\n",
      "\u001b[0;31mKeyError\u001b[0m: 'Estudiantes Mujeres'"
     ]
    }
   ],
   "source": [
    "sample_data['Estudiantes Mujeres']"
   ]
  },
  {
   "cell_type": "markdown",
   "metadata": {
    "slideshow": {
     "slide_type": "slide"
    }
   },
   "source": [
    "Para poder simplifcarlo, reemplazamos el nombre de aquellas que contengan espacios:"
   ]
  },
  {
   "cell_type": "code",
   "execution_count": 20,
   "metadata": {
    "slideshow": {
     "slide_type": "fragment"
    }
   },
   "outputs": [],
   "source": [
    "sample_data.columns = [c.replace(' ','_') for c in sample_data.columns]"
   ]
  },
  {
   "cell_type": "code",
   "execution_count": 21,
   "metadata": {
    "slideshow": {
     "slide_type": "slide"
    }
   },
   "outputs": [
    {
     "data": {
      "text/plain": [
       "Index(['Año', 'Tipo_de_Institución', 'Institución', 'Unidad_Académica',\n",
       "       'Carrera', 'Título', 'Gestión', 'Nivel_de_la_Oferta',\n",
       "       'Total_de_Estudiantes', 'Estudiantes_Varones', 'Estudiantes_Mujeres',\n",
       "       'Total_de_Nuevos_Inscriptos', 'Nuevos_Inscriptos_Varones',\n",
       "       'Nuevas_Inscriptas_Mujeres', 'Total_de_Reinscriptos',\n",
       "       'Reinscriptos_Varones', 'Reinscriptos_Mujeres', 'Total_de_Egresados',\n",
       "       'Egresados_Varones', 'Egresados_Mujeres', 'Unnamed:_20'],\n",
       "      dtype='object')"
      ]
     },
     "execution_count": 21,
     "metadata": {},
     "output_type": "execute_result"
    }
   ],
   "source": [
    "sample_data.columns\n"
   ]
  },
  {
   "cell_type": "code",
   "execution_count": 22,
   "metadata": {
    "slideshow": {
     "slide_type": "fragment"
    }
   },
   "outputs": [
    {
     "data": {
      "text/plain": [
       "0         1.0\n",
       "1       128.0\n",
       "2        38.0\n",
       "3        43.0\n",
       "4        67.0\n",
       "        ...  \n",
       "1708      NaN\n",
       "1709      NaN\n",
       "1710      NaN\n",
       "1711      NaN\n",
       "1712      NaN\n",
       "Name: Estudiantes_Mujeres, Length: 1713, dtype: float64"
      ]
     },
     "execution_count": 22,
     "metadata": {},
     "output_type": "execute_result"
    }
   ],
   "source": [
    "sample_data.Estudiantes_Mujeres"
   ]
  },
  {
   "cell_type": "markdown",
   "metadata": {
    "slideshow": {
     "slide_type": "slide"
    }
   },
   "source": [
    "Veamos nuevamente los datos."
   ]
  },
  {
   "cell_type": "code",
   "execution_count": 23,
   "metadata": {
    "slideshow": {
     "slide_type": "fragment"
    }
   },
   "outputs": [
    {
     "data": {
      "text/html": [
       "<div>\n",
       "<style scoped>\n",
       "    .dataframe tbody tr th:only-of-type {\n",
       "        vertical-align: middle;\n",
       "    }\n",
       "\n",
       "    .dataframe tbody tr th {\n",
       "        vertical-align: top;\n",
       "    }\n",
       "\n",
       "    .dataframe thead th {\n",
       "        text-align: right;\n",
       "    }\n",
       "</style>\n",
       "<table border=\"1\" class=\"dataframe\">\n",
       "  <thead>\n",
       "    <tr style=\"text-align: right;\">\n",
       "      <th></th>\n",
       "      <th>Año</th>\n",
       "      <th>Tipo_de_Institución</th>\n",
       "      <th>Institución</th>\n",
       "      <th>Unidad_Académica</th>\n",
       "      <th>Carrera</th>\n",
       "      <th>Título</th>\n",
       "      <th>Gestión</th>\n",
       "      <th>Nivel_de_la_Oferta</th>\n",
       "      <th>Total_de_Estudiantes</th>\n",
       "      <th>Estudiantes_Varones</th>\n",
       "      <th>...</th>\n",
       "      <th>Total_de_Nuevos_Inscriptos</th>\n",
       "      <th>Nuevos_Inscriptos_Varones</th>\n",
       "      <th>Nuevas_Inscriptas_Mujeres</th>\n",
       "      <th>Total_de_Reinscriptos</th>\n",
       "      <th>Reinscriptos_Varones</th>\n",
       "      <th>Reinscriptos_Mujeres</th>\n",
       "      <th>Total_de_Egresados</th>\n",
       "      <th>Egresados_Varones</th>\n",
       "      <th>Egresados_Mujeres</th>\n",
       "      <th>Unnamed:_20</th>\n",
       "    </tr>\n",
       "  </thead>\n",
       "  <tbody>\n",
       "    <tr>\n",
       "      <th>0</th>\n",
       "      <td>2010.0</td>\n",
       "      <td>Universidad                                   ...</td>\n",
       "      <td>Universidad CAECE</td>\n",
       "      <td>Departamento de Sistemas</td>\n",
       "      <td>Computación, Sistemas e Informática</td>\n",
       "      <td>Licenciatura en Ciencias de la Computación</td>\n",
       "      <td>Privada                                       ...</td>\n",
       "      <td>Grado</td>\n",
       "      <td>30</td>\n",
       "      <td>29</td>\n",
       "      <td>...</td>\n",
       "      <td>1</td>\n",
       "      <td>1.0</td>\n",
       "      <td>NaN</td>\n",
       "      <td>29</td>\n",
       "      <td>28</td>\n",
       "      <td>1.0</td>\n",
       "      <td>6.0</td>\n",
       "      <td>6.0</td>\n",
       "      <td>NaN</td>\n",
       "      <td>NaN</td>\n",
       "    </tr>\n",
       "    <tr>\n",
       "      <th>1</th>\n",
       "      <td>2010.0</td>\n",
       "      <td>Universidad                                   ...</td>\n",
       "      <td>Universidad Nacional de Córdoba</td>\n",
       "      <td>Facultad de Matemáticas, Astronomía y Física</td>\n",
       "      <td>Computación, Sistemas e Informática</td>\n",
       "      <td>Licenciatura en Ciencias de la Computación</td>\n",
       "      <td>Estatal                                       ...</td>\n",
       "      <td>Grado</td>\n",
       "      <td>625</td>\n",
       "      <td>497</td>\n",
       "      <td>...</td>\n",
       "      <td>161</td>\n",
       "      <td>123.0</td>\n",
       "      <td>38.0</td>\n",
       "      <td>464</td>\n",
       "      <td>374</td>\n",
       "      <td>90.0</td>\n",
       "      <td>13.0</td>\n",
       "      <td>12.0</td>\n",
       "      <td>1.0</td>\n",
       "      <td>NaN</td>\n",
       "    </tr>\n",
       "    <tr>\n",
       "      <th>2</th>\n",
       "      <td>2010.0</td>\n",
       "      <td>Universidad                                   ...</td>\n",
       "      <td>Universidad Nacional de Rosario</td>\n",
       "      <td>Facultad de Ciencias Exactas, Ingeniería y Agr...</td>\n",
       "      <td>Computación, Sistemas e Informática</td>\n",
       "      <td>Licenciatura en Ciencias de la Computación</td>\n",
       "      <td>Estatal                                       ...</td>\n",
       "      <td>Grado</td>\n",
       "      <td>298</td>\n",
       "      <td>260</td>\n",
       "      <td>...</td>\n",
       "      <td>60</td>\n",
       "      <td>55.0</td>\n",
       "      <td>5.0</td>\n",
       "      <td>238</td>\n",
       "      <td>205</td>\n",
       "      <td>33.0</td>\n",
       "      <td>20.0</td>\n",
       "      <td>20.0</td>\n",
       "      <td>NaN</td>\n",
       "      <td>NaN</td>\n",
       "    </tr>\n",
       "    <tr>\n",
       "      <th>3</th>\n",
       "      <td>2010.0</td>\n",
       "      <td>Universidad                                   ...</td>\n",
       "      <td>Universidad Nacional de Río Cuarto</td>\n",
       "      <td>Facultad de Ciencias Exactas, Físico-Químicas ...</td>\n",
       "      <td>Computación, Sistemas e Informática</td>\n",
       "      <td>Licenciatura en Ciencias de la Computación</td>\n",
       "      <td>Estatal                                       ...</td>\n",
       "      <td>Grado</td>\n",
       "      <td>259</td>\n",
       "      <td>216</td>\n",
       "      <td>...</td>\n",
       "      <td>62</td>\n",
       "      <td>51.0</td>\n",
       "      <td>11.0</td>\n",
       "      <td>197</td>\n",
       "      <td>165</td>\n",
       "      <td>32.0</td>\n",
       "      <td>11.0</td>\n",
       "      <td>9.0</td>\n",
       "      <td>2.0</td>\n",
       "      <td>NaN</td>\n",
       "    </tr>\n",
       "    <tr>\n",
       "      <th>4</th>\n",
       "      <td>2010.0</td>\n",
       "      <td>Universidad                                   ...</td>\n",
       "      <td>Universidad Nacional de San Juan</td>\n",
       "      <td>Facultad de Ciencias Exactas, Físicas y Naturales</td>\n",
       "      <td>Computación, Sistemas e Informática</td>\n",
       "      <td>Licenciatura en Ciencias de la Computación</td>\n",
       "      <td>Estatal                                       ...</td>\n",
       "      <td>Grado</td>\n",
       "      <td>340</td>\n",
       "      <td>273</td>\n",
       "      <td>...</td>\n",
       "      <td>107</td>\n",
       "      <td>92.0</td>\n",
       "      <td>15.0</td>\n",
       "      <td>233</td>\n",
       "      <td>181</td>\n",
       "      <td>52.0</td>\n",
       "      <td>NaN</td>\n",
       "      <td>NaN</td>\n",
       "      <td>NaN</td>\n",
       "      <td>NaN</td>\n",
       "    </tr>\n",
       "    <tr>\n",
       "      <th>...</th>\n",
       "      <td>...</td>\n",
       "      <td>...</td>\n",
       "      <td>...</td>\n",
       "      <td>...</td>\n",
       "      <td>...</td>\n",
       "      <td>...</td>\n",
       "      <td>...</td>\n",
       "      <td>...</td>\n",
       "      <td>...</td>\n",
       "      <td>...</td>\n",
       "      <td>...</td>\n",
       "      <td>...</td>\n",
       "      <td>...</td>\n",
       "      <td>...</td>\n",
       "      <td>...</td>\n",
       "      <td>...</td>\n",
       "      <td>...</td>\n",
       "      <td>...</td>\n",
       "      <td>...</td>\n",
       "      <td>...</td>\n",
       "      <td>...</td>\n",
       "    </tr>\n",
       "    <tr>\n",
       "      <th>1708</th>\n",
       "      <td>2011.0</td>\n",
       "      <td>Universidad                                   ...</td>\n",
       "      <td>Universidad de Buenos Aires</td>\n",
       "      <td>Facultad de Ciencias Exactas y Naturales</td>\n",
       "      <td>Computación, Sistemas e Informática</td>\n",
       "      <td>Analista Universitario de Computación</td>\n",
       "      <td>Estatal                                       ...</td>\n",
       "      <td>Pregrado</td>\n",
       "      <td>NaN</td>\n",
       "      <td>NaN</td>\n",
       "      <td>...</td>\n",
       "      <td>NaN</td>\n",
       "      <td>NaN</td>\n",
       "      <td>NaN</td>\n",
       "      <td>NaN</td>\n",
       "      <td>NaN</td>\n",
       "      <td>NaN</td>\n",
       "      <td>32.0</td>\n",
       "      <td>26.0</td>\n",
       "      <td>6.0</td>\n",
       "      <td>NaN</td>\n",
       "    </tr>\n",
       "    <tr>\n",
       "      <th>1709</th>\n",
       "      <td>2012.0</td>\n",
       "      <td>Universidad                                   ...</td>\n",
       "      <td>Universidad de Buenos Aires</td>\n",
       "      <td>Facultad de Ciencias Exactas y Naturales</td>\n",
       "      <td>Computación, Sistemas e Informática</td>\n",
       "      <td>Analista Universitario de Computación</td>\n",
       "      <td>Estatal                                       ...</td>\n",
       "      <td>Pregrado</td>\n",
       "      <td>NaN</td>\n",
       "      <td>NaN</td>\n",
       "      <td>...</td>\n",
       "      <td>NaN</td>\n",
       "      <td>NaN</td>\n",
       "      <td>NaN</td>\n",
       "      <td>NaN</td>\n",
       "      <td>NaN</td>\n",
       "      <td>NaN</td>\n",
       "      <td>24.0</td>\n",
       "      <td>21.0</td>\n",
       "      <td>3.0</td>\n",
       "      <td>NaN</td>\n",
       "    </tr>\n",
       "    <tr>\n",
       "      <th>1710</th>\n",
       "      <td>2013.0</td>\n",
       "      <td>Universidad                                   ...</td>\n",
       "      <td>Universidad de Buenos Aires</td>\n",
       "      <td>Facultad de Ciencias Exactas y Naturales</td>\n",
       "      <td>Computación, Sistemas e Informática</td>\n",
       "      <td>Analista Universitario de Computación</td>\n",
       "      <td>Estatal                                       ...</td>\n",
       "      <td>Pregrado</td>\n",
       "      <td>NaN</td>\n",
       "      <td>NaN</td>\n",
       "      <td>...</td>\n",
       "      <td>NaN</td>\n",
       "      <td>NaN</td>\n",
       "      <td>NaN</td>\n",
       "      <td>NaN</td>\n",
       "      <td>NaN</td>\n",
       "      <td>NaN</td>\n",
       "      <td>30.0</td>\n",
       "      <td>27.0</td>\n",
       "      <td>3.0</td>\n",
       "      <td>NaN</td>\n",
       "    </tr>\n",
       "    <tr>\n",
       "      <th>1711</th>\n",
       "      <td>2014.0</td>\n",
       "      <td>Universidad                                   ...</td>\n",
       "      <td>Universidad de Buenos Aires</td>\n",
       "      <td>Facultad de Ciencias Exactas y Naturales</td>\n",
       "      <td>Computación, Sistemas e Informática</td>\n",
       "      <td>Analista Universitario de Computación</td>\n",
       "      <td>Estatal                                       ...</td>\n",
       "      <td>Pregrado</td>\n",
       "      <td>NaN</td>\n",
       "      <td>NaN</td>\n",
       "      <td>...</td>\n",
       "      <td>NaN</td>\n",
       "      <td>NaN</td>\n",
       "      <td>NaN</td>\n",
       "      <td>NaN</td>\n",
       "      <td>NaN</td>\n",
       "      <td>NaN</td>\n",
       "      <td>31.0</td>\n",
       "      <td>29.0</td>\n",
       "      <td>2.0</td>\n",
       "      <td>NaN</td>\n",
       "    </tr>\n",
       "    <tr>\n",
       "      <th>1712</th>\n",
       "      <td>2015.0</td>\n",
       "      <td>Universidad                                   ...</td>\n",
       "      <td>Universidad de Buenos Aires</td>\n",
       "      <td>Facultad de Ciencias Exactas y Naturales</td>\n",
       "      <td>Computación, Sistemas e Informática</td>\n",
       "      <td>Analista Universitario de Computación</td>\n",
       "      <td>Estatal                                       ...</td>\n",
       "      <td>Pregrado</td>\n",
       "      <td>NaN</td>\n",
       "      <td>NaN</td>\n",
       "      <td>...</td>\n",
       "      <td>NaN</td>\n",
       "      <td>NaN</td>\n",
       "      <td>NaN</td>\n",
       "      <td>NaN</td>\n",
       "      <td>NaN</td>\n",
       "      <td>NaN</td>\n",
       "      <td>29.0</td>\n",
       "      <td>25.0</td>\n",
       "      <td>4.0</td>\n",
       "      <td>NaN</td>\n",
       "    </tr>\n",
       "  </tbody>\n",
       "</table>\n",
       "<p>1713 rows × 21 columns</p>\n",
       "</div>"
      ],
      "text/plain": [
       "         Año                                Tipo_de_Institución  \\\n",
       "0     2010.0  Universidad                                   ...   \n",
       "1     2010.0  Universidad                                   ...   \n",
       "2     2010.0  Universidad                                   ...   \n",
       "3     2010.0  Universidad                                   ...   \n",
       "4     2010.0  Universidad                                   ...   \n",
       "...      ...                                                ...   \n",
       "1708  2011.0  Universidad                                   ...   \n",
       "1709  2012.0  Universidad                                   ...   \n",
       "1710  2013.0  Universidad                                   ...   \n",
       "1711  2014.0  Universidad                                   ...   \n",
       "1712  2015.0  Universidad                                   ...   \n",
       "\n",
       "                             Institución  \\\n",
       "0                      Universidad CAECE   \n",
       "1        Universidad Nacional de Córdoba   \n",
       "2        Universidad Nacional de Rosario   \n",
       "3     Universidad Nacional de Río Cuarto   \n",
       "4       Universidad Nacional de San Juan   \n",
       "...                                  ...   \n",
       "1708         Universidad de Buenos Aires   \n",
       "1709         Universidad de Buenos Aires   \n",
       "1710         Universidad de Buenos Aires   \n",
       "1711         Universidad de Buenos Aires   \n",
       "1712         Universidad de Buenos Aires   \n",
       "\n",
       "                                       Unidad_Académica  \\\n",
       "0                              Departamento de Sistemas   \n",
       "1          Facultad de Matemáticas, Astronomía y Física   \n",
       "2     Facultad de Ciencias Exactas, Ingeniería y Agr...   \n",
       "3     Facultad de Ciencias Exactas, Físico-Químicas ...   \n",
       "4     Facultad de Ciencias Exactas, Físicas y Naturales   \n",
       "...                                                 ...   \n",
       "1708           Facultad de Ciencias Exactas y Naturales   \n",
       "1709           Facultad de Ciencias Exactas y Naturales   \n",
       "1710           Facultad de Ciencias Exactas y Naturales   \n",
       "1711           Facultad de Ciencias Exactas y Naturales   \n",
       "1712           Facultad de Ciencias Exactas y Naturales   \n",
       "\n",
       "                                  Carrera  \\\n",
       "0     Computación, Sistemas e Informática   \n",
       "1     Computación, Sistemas e Informática   \n",
       "2     Computación, Sistemas e Informática   \n",
       "3     Computación, Sistemas e Informática   \n",
       "4     Computación, Sistemas e Informática   \n",
       "...                                   ...   \n",
       "1708  Computación, Sistemas e Informática   \n",
       "1709  Computación, Sistemas e Informática   \n",
       "1710  Computación, Sistemas e Informática   \n",
       "1711  Computación, Sistemas e Informática   \n",
       "1712  Computación, Sistemas e Informática   \n",
       "\n",
       "                                          Título  \\\n",
       "0     Licenciatura en Ciencias de la Computación   \n",
       "1     Licenciatura en Ciencias de la Computación   \n",
       "2     Licenciatura en Ciencias de la Computación   \n",
       "3     Licenciatura en Ciencias de la Computación   \n",
       "4     Licenciatura en Ciencias de la Computación   \n",
       "...                                          ...   \n",
       "1708       Analista Universitario de Computación   \n",
       "1709       Analista Universitario de Computación   \n",
       "1710       Analista Universitario de Computación   \n",
       "1711       Analista Universitario de Computación   \n",
       "1712       Analista Universitario de Computación   \n",
       "\n",
       "                                                Gestión    Nivel_de_la_Oferta  \\\n",
       "0     Privada                                       ...  Grado                  \n",
       "1     Estatal                                       ...  Grado                  \n",
       "2     Estatal                                       ...  Grado                  \n",
       "3     Estatal                                       ...  Grado                  \n",
       "4     Estatal                                       ...  Grado                  \n",
       "...                                                 ...                   ...   \n",
       "1708  Estatal                                       ...  Pregrado               \n",
       "1709  Estatal                                       ...  Pregrado               \n",
       "1710  Estatal                                       ...  Pregrado               \n",
       "1711  Estatal                                       ...  Pregrado               \n",
       "1712  Estatal                                       ...  Pregrado               \n",
       "\n",
       "     Total_de_Estudiantes Estudiantes_Varones  ...  \\\n",
       "0                      30                  29  ...   \n",
       "1                     625                 497  ...   \n",
       "2                     298                 260  ...   \n",
       "3                     259                 216  ...   \n",
       "4                     340                 273  ...   \n",
       "...                   ...                 ...  ...   \n",
       "1708                  NaN                 NaN  ...   \n",
       "1709                  NaN                 NaN  ...   \n",
       "1710                  NaN                 NaN  ...   \n",
       "1711                  NaN                 NaN  ...   \n",
       "1712                  NaN                 NaN  ...   \n",
       "\n",
       "      Total_de_Nuevos_Inscriptos Nuevos_Inscriptos_Varones  \\\n",
       "0                              1                       1.0   \n",
       "1                            161                     123.0   \n",
       "2                             60                      55.0   \n",
       "3                             62                      51.0   \n",
       "4                            107                      92.0   \n",
       "...                          ...                       ...   \n",
       "1708                         NaN                       NaN   \n",
       "1709                         NaN                       NaN   \n",
       "1710                         NaN                       NaN   \n",
       "1711                         NaN                       NaN   \n",
       "1712                         NaN                       NaN   \n",
       "\n",
       "      Nuevas_Inscriptas_Mujeres  Total_de_Reinscriptos Reinscriptos_Varones  \\\n",
       "0                           NaN                     29                   28   \n",
       "1                          38.0                    464                  374   \n",
       "2                           5.0                    238                  205   \n",
       "3                          11.0                    197                  165   \n",
       "4                          15.0                    233                  181   \n",
       "...                         ...                    ...                  ...   \n",
       "1708                        NaN                    NaN                  NaN   \n",
       "1709                        NaN                    NaN                  NaN   \n",
       "1710                        NaN                    NaN                  NaN   \n",
       "1711                        NaN                    NaN                  NaN   \n",
       "1712                        NaN                    NaN                  NaN   \n",
       "\n",
       "     Reinscriptos_Mujeres  Total_de_Egresados  Egresados_Varones  \\\n",
       "0                     1.0                 6.0                6.0   \n",
       "1                    90.0                13.0               12.0   \n",
       "2                    33.0                20.0               20.0   \n",
       "3                    32.0                11.0                9.0   \n",
       "4                    52.0                 NaN                NaN   \n",
       "...                   ...                 ...                ...   \n",
       "1708                  NaN                32.0               26.0   \n",
       "1709                  NaN                24.0               21.0   \n",
       "1710                  NaN                30.0               27.0   \n",
       "1711                  NaN                31.0               29.0   \n",
       "1712                  NaN                29.0               25.0   \n",
       "\n",
       "      Egresados_Mujeres  Unnamed:_20  \n",
       "0                   NaN          NaN  \n",
       "1                   1.0          NaN  \n",
       "2                   NaN          NaN  \n",
       "3                   2.0          NaN  \n",
       "4                   NaN          NaN  \n",
       "...                 ...          ...  \n",
       "1708                6.0          NaN  \n",
       "1709                3.0          NaN  \n",
       "1710                3.0          NaN  \n",
       "1711                2.0          NaN  \n",
       "1712                4.0          NaN  \n",
       "\n",
       "[1713 rows x 21 columns]"
      ]
     },
     "execution_count": 23,
     "metadata": {},
     "output_type": "execute_result"
    }
   ],
   "source": [
    "sample_data"
   ]
  },
  {
   "cell_type": "markdown",
   "metadata": {
    "slideshow": {
     "slide_type": "slide"
    }
   },
   "source": [
    "Como dijimos, vamos a reducir la cantidad de información, ya que algunas \n",
    "\n",
    "columnas no son necesarias para nuestro análisis. \n",
    "\n",
    "**Nuestro objetivo original:** mostrar el porcentaje de mujeres inscriptas en la UNLP entre el período 2010-2015\n",
    "\n",
    "Para nuestro caso los únicos datos que nos interesan son:\n",
    "* Año\n",
    "* Institución\n",
    "* Estudiantes varones\n",
    "* Estudiantes Mujeres"
   ]
  },
  {
   "cell_type": "code",
   "execution_count": 24,
   "metadata": {
    "slideshow": {
     "slide_type": "slide"
    }
   },
   "outputs": [],
   "source": [
    "data = sample_data[['Año','Institución', 'Estudiantes_Varones','Estudiantes_Mujeres']]"
   ]
  },
  {
   "cell_type": "code",
   "execution_count": 25,
   "metadata": {
    "slideshow": {
     "slide_type": "fragment"
    }
   },
   "outputs": [
    {
     "data": {
      "text/html": [
       "<div>\n",
       "<style scoped>\n",
       "    .dataframe tbody tr th:only-of-type {\n",
       "        vertical-align: middle;\n",
       "    }\n",
       "\n",
       "    .dataframe tbody tr th {\n",
       "        vertical-align: top;\n",
       "    }\n",
       "\n",
       "    .dataframe thead th {\n",
       "        text-align: right;\n",
       "    }\n",
       "</style>\n",
       "<table border=\"1\" class=\"dataframe\">\n",
       "  <thead>\n",
       "    <tr style=\"text-align: right;\">\n",
       "      <th></th>\n",
       "      <th>Año</th>\n",
       "      <th>Institución</th>\n",
       "      <th>Estudiantes_Varones</th>\n",
       "      <th>Estudiantes_Mujeres</th>\n",
       "    </tr>\n",
       "  </thead>\n",
       "  <tbody>\n",
       "    <tr>\n",
       "      <th>0</th>\n",
       "      <td>2010.0</td>\n",
       "      <td>Universidad CAECE</td>\n",
       "      <td>29</td>\n",
       "      <td>1.0</td>\n",
       "    </tr>\n",
       "    <tr>\n",
       "      <th>1</th>\n",
       "      <td>2010.0</td>\n",
       "      <td>Universidad Nacional de Córdoba</td>\n",
       "      <td>497</td>\n",
       "      <td>128.0</td>\n",
       "    </tr>\n",
       "    <tr>\n",
       "      <th>2</th>\n",
       "      <td>2010.0</td>\n",
       "      <td>Universidad Nacional de Rosario</td>\n",
       "      <td>260</td>\n",
       "      <td>38.0</td>\n",
       "    </tr>\n",
       "    <tr>\n",
       "      <th>3</th>\n",
       "      <td>2010.0</td>\n",
       "      <td>Universidad Nacional de Río Cuarto</td>\n",
       "      <td>216</td>\n",
       "      <td>43.0</td>\n",
       "    </tr>\n",
       "    <tr>\n",
       "      <th>4</th>\n",
       "      <td>2010.0</td>\n",
       "      <td>Universidad Nacional de San Juan</td>\n",
       "      <td>273</td>\n",
       "      <td>67.0</td>\n",
       "    </tr>\n",
       "    <tr>\n",
       "      <th>...</th>\n",
       "      <td>...</td>\n",
       "      <td>...</td>\n",
       "      <td>...</td>\n",
       "      <td>...</td>\n",
       "    </tr>\n",
       "    <tr>\n",
       "      <th>1708</th>\n",
       "      <td>2011.0</td>\n",
       "      <td>Universidad de Buenos Aires</td>\n",
       "      <td>NaN</td>\n",
       "      <td>NaN</td>\n",
       "    </tr>\n",
       "    <tr>\n",
       "      <th>1709</th>\n",
       "      <td>2012.0</td>\n",
       "      <td>Universidad de Buenos Aires</td>\n",
       "      <td>NaN</td>\n",
       "      <td>NaN</td>\n",
       "    </tr>\n",
       "    <tr>\n",
       "      <th>1710</th>\n",
       "      <td>2013.0</td>\n",
       "      <td>Universidad de Buenos Aires</td>\n",
       "      <td>NaN</td>\n",
       "      <td>NaN</td>\n",
       "    </tr>\n",
       "    <tr>\n",
       "      <th>1711</th>\n",
       "      <td>2014.0</td>\n",
       "      <td>Universidad de Buenos Aires</td>\n",
       "      <td>NaN</td>\n",
       "      <td>NaN</td>\n",
       "    </tr>\n",
       "    <tr>\n",
       "      <th>1712</th>\n",
       "      <td>2015.0</td>\n",
       "      <td>Universidad de Buenos Aires</td>\n",
       "      <td>NaN</td>\n",
       "      <td>NaN</td>\n",
       "    </tr>\n",
       "  </tbody>\n",
       "</table>\n",
       "<p>1713 rows × 4 columns</p>\n",
       "</div>"
      ],
      "text/plain": [
       "         Año                         Institución Estudiantes_Varones  \\\n",
       "0     2010.0                   Universidad CAECE                  29   \n",
       "1     2010.0     Universidad Nacional de Córdoba                 497   \n",
       "2     2010.0     Universidad Nacional de Rosario                 260   \n",
       "3     2010.0  Universidad Nacional de Río Cuarto                 216   \n",
       "4     2010.0    Universidad Nacional de San Juan                 273   \n",
       "...      ...                                 ...                 ...   \n",
       "1708  2011.0         Universidad de Buenos Aires                 NaN   \n",
       "1709  2012.0         Universidad de Buenos Aires                 NaN   \n",
       "1710  2013.0         Universidad de Buenos Aires                 NaN   \n",
       "1711  2014.0         Universidad de Buenos Aires                 NaN   \n",
       "1712  2015.0         Universidad de Buenos Aires                 NaN   \n",
       "\n",
       "      Estudiantes_Mujeres  \n",
       "0                     1.0  \n",
       "1                   128.0  \n",
       "2                    38.0  \n",
       "3                    43.0  \n",
       "4                    67.0  \n",
       "...                   ...  \n",
       "1708                  NaN  \n",
       "1709                  NaN  \n",
       "1710                  NaN  \n",
       "1711                  NaN  \n",
       "1712                  NaN  \n",
       "\n",
       "[1713 rows x 4 columns]"
      ]
     },
     "execution_count": 25,
     "metadata": {},
     "output_type": "execute_result"
    }
   ],
   "source": [
    "data"
   ]
  },
  {
   "cell_type": "markdown",
   "metadata": {
    "slideshow": {
     "slide_type": "slide"
    }
   },
   "source": [
    "La columna **Institución** tiene la institución de origen. ¿Cómo sabemos que no hay errores de tipeo u ortografía en los  nombres de las instituciones? Ejemplo, en vez de Universidad, Unniversidad, o UNLP?\n",
    "\n",
    "Veamos qué instituciones incluyen la cadena \"La Plata\" en su nombre:"
   ]
  },
  {
   "cell_type": "code",
   "execution_count": 26,
   "metadata": {
    "slideshow": {
     "slide_type": "slide"
    }
   },
   "outputs": [
    {
     "data": {
      "text/plain": [
       "['Universidad Católica de La Plata', 'Universidad Nacional de La Plata']"
      ]
     },
     "execution_count": 26,
     "metadata": {},
     "output_type": "execute_result"
    }
   ],
   "source": [
    "lista1 = data['Institución'].drop_duplicates().sort_values()\n",
    "list(filter(lambda c: \"La Plata\" in c, lista1))\n"
   ]
  },
  {
   "cell_type": "markdown",
   "metadata": {
    "slideshow": {
     "slide_type": "skip"
    }
   },
   "source": [
    "En el caso de tener que hacer algunos cambios podríamos aplicar algo similar a lo realizado en el tutorial de Marc:"
   ]
  },
  {
   "cell_type": "code",
   "execution_count": 23,
   "metadata": {
    "slideshow": {
     "slide_type": "skip"
    }
   },
   "outputs": [],
   "source": [
    "cambios = {'Univversidad Nacional de La Plata': 'Universidad Nacional de La Plata'}\n",
    "\n",
    "data = data.copy()\n",
    "data['Institución'] = data['Institución'].replace(cambios)"
   ]
  },
  {
   "cell_type": "markdown",
   "metadata": {
    "slideshow": {
     "slide_type": "slide"
    }
   },
   "source": [
    "Como vamos a analizar los datos de la UNLP, podemos reducir a esta institución:"
   ]
  },
  {
   "cell_type": "code",
   "execution_count": 27,
   "metadata": {
    "slideshow": {
     "slide_type": "fragment"
    }
   },
   "outputs": [],
   "source": [
    "unlp = data[data.Institución=='Universidad Nacional de La Plata']"
   ]
  },
  {
   "cell_type": "code",
   "execution_count": 28,
   "metadata": {
    "slideshow": {
     "slide_type": "fragment"
    }
   },
   "outputs": [
    {
     "data": {
      "text/html": [
       "<div>\n",
       "<style scoped>\n",
       "    .dataframe tbody tr th:only-of-type {\n",
       "        vertical-align: middle;\n",
       "    }\n",
       "\n",
       "    .dataframe tbody tr th {\n",
       "        vertical-align: top;\n",
       "    }\n",
       "\n",
       "    .dataframe thead th {\n",
       "        text-align: right;\n",
       "    }\n",
       "</style>\n",
       "<table border=\"1\" class=\"dataframe\">\n",
       "  <thead>\n",
       "    <tr style=\"text-align: right;\">\n",
       "      <th></th>\n",
       "      <th>Año</th>\n",
       "      <th>Institución</th>\n",
       "      <th>Estudiantes_Varones</th>\n",
       "      <th>Estudiantes_Mujeres</th>\n",
       "    </tr>\n",
       "  </thead>\n",
       "  <tbody>\n",
       "    <tr>\n",
       "      <th>57</th>\n",
       "      <td>2010.0</td>\n",
       "      <td>Universidad Nacional de La Plata</td>\n",
       "      <td>617</td>\n",
       "      <td>198.0</td>\n",
       "    </tr>\n",
       "    <tr>\n",
       "      <th>73</th>\n",
       "      <td>2011.0</td>\n",
       "      <td>Universidad Nacional de La Plata</td>\n",
       "      <td>755</td>\n",
       "      <td>213.0</td>\n",
       "    </tr>\n",
       "    <tr>\n",
       "      <th>91</th>\n",
       "      <td>2012.0</td>\n",
       "      <td>Universidad Nacional de La Plata</td>\n",
       "      <td>783</td>\n",
       "      <td>181.0</td>\n",
       "    </tr>\n",
       "    <tr>\n",
       "      <th>110</th>\n",
       "      <td>2013.0</td>\n",
       "      <td>Universidad Nacional de La Plata</td>\n",
       "      <td>839</td>\n",
       "      <td>197.0</td>\n",
       "    </tr>\n",
       "    <tr>\n",
       "      <th>129</th>\n",
       "      <td>2014.0</td>\n",
       "      <td>Universidad Nacional de La Plata</td>\n",
       "      <td>856</td>\n",
       "      <td>207.0</td>\n",
       "    </tr>\n",
       "    <tr>\n",
       "      <th>147</th>\n",
       "      <td>2015.0</td>\n",
       "      <td>Universidad Nacional de La Plata</td>\n",
       "      <td>946</td>\n",
       "      <td>236.0</td>\n",
       "    </tr>\n",
       "    <tr>\n",
       "      <th>185</th>\n",
       "      <td>2010.0</td>\n",
       "      <td>Universidad Nacional de La Plata</td>\n",
       "      <td>1,025</td>\n",
       "      <td>202.0</td>\n",
       "    </tr>\n",
       "    <tr>\n",
       "      <th>201</th>\n",
       "      <td>2011.0</td>\n",
       "      <td>Universidad Nacional de La Plata</td>\n",
       "      <td>1,104</td>\n",
       "      <td>209.0</td>\n",
       "    </tr>\n",
       "    <tr>\n",
       "      <th>218</th>\n",
       "      <td>2012.0</td>\n",
       "      <td>Universidad Nacional de La Plata</td>\n",
       "      <td>1,114</td>\n",
       "      <td>223.0</td>\n",
       "    </tr>\n",
       "    <tr>\n",
       "      <th>236</th>\n",
       "      <td>2013.0</td>\n",
       "      <td>Universidad Nacional de La Plata</td>\n",
       "      <td>1,126</td>\n",
       "      <td>218.0</td>\n",
       "    </tr>\n",
       "    <tr>\n",
       "      <th>253</th>\n",
       "      <td>2014.0</td>\n",
       "      <td>Universidad Nacional de La Plata</td>\n",
       "      <td>1,055</td>\n",
       "      <td>180.0</td>\n",
       "    </tr>\n",
       "    <tr>\n",
       "      <th>268</th>\n",
       "      <td>2015.0</td>\n",
       "      <td>Universidad Nacional de La Plata</td>\n",
       "      <td>964</td>\n",
       "      <td>165.0</td>\n",
       "    </tr>\n",
       "    <tr>\n",
       "      <th>387</th>\n",
       "      <td>2010.0</td>\n",
       "      <td>Universidad Nacional de La Plata</td>\n",
       "      <td>1,339</td>\n",
       "      <td>350.0</td>\n",
       "    </tr>\n",
       "    <tr>\n",
       "      <th>411</th>\n",
       "      <td>2011.0</td>\n",
       "      <td>Universidad Nacional de La Plata</td>\n",
       "      <td>1,481</td>\n",
       "      <td>369.0</td>\n",
       "    </tr>\n",
       "    <tr>\n",
       "      <th>435</th>\n",
       "      <td>2012.0</td>\n",
       "      <td>Universidad Nacional de La Plata</td>\n",
       "      <td>1,496</td>\n",
       "      <td>338.0</td>\n",
       "    </tr>\n",
       "    <tr>\n",
       "      <th>460</th>\n",
       "      <td>2013.0</td>\n",
       "      <td>Universidad Nacional de La Plata</td>\n",
       "      <td>1,386</td>\n",
       "      <td>312.0</td>\n",
       "    </tr>\n",
       "    <tr>\n",
       "      <th>487</th>\n",
       "      <td>2014.0</td>\n",
       "      <td>Universidad Nacional de La Plata</td>\n",
       "      <td>1,370</td>\n",
       "      <td>312.0</td>\n",
       "    </tr>\n",
       "    <tr>\n",
       "      <th>514</th>\n",
       "      <td>2015.0</td>\n",
       "      <td>Universidad Nacional de La Plata</td>\n",
       "      <td>1,237</td>\n",
       "      <td>255.0</td>\n",
       "    </tr>\n",
       "    <tr>\n",
       "      <th>667</th>\n",
       "      <td>2010.0</td>\n",
       "      <td>Universidad Nacional de La Plata</td>\n",
       "      <td>330</td>\n",
       "      <td>46.0</td>\n",
       "    </tr>\n",
       "    <tr>\n",
       "      <th>677</th>\n",
       "      <td>2011.0</td>\n",
       "      <td>Universidad Nacional de La Plata</td>\n",
       "      <td>343</td>\n",
       "      <td>41.0</td>\n",
       "    </tr>\n",
       "    <tr>\n",
       "      <th>687</th>\n",
       "      <td>2012.0</td>\n",
       "      <td>Universidad Nacional de La Plata</td>\n",
       "      <td>433</td>\n",
       "      <td>46.0</td>\n",
       "    </tr>\n",
       "    <tr>\n",
       "      <th>698</th>\n",
       "      <td>2013.0</td>\n",
       "      <td>Universidad Nacional de La Plata</td>\n",
       "      <td>491</td>\n",
       "      <td>57.0</td>\n",
       "    </tr>\n",
       "    <tr>\n",
       "      <th>710</th>\n",
       "      <td>2014.0</td>\n",
       "      <td>Universidad Nacional de La Plata</td>\n",
       "      <td>571</td>\n",
       "      <td>73.0</td>\n",
       "    </tr>\n",
       "    <tr>\n",
       "      <th>721</th>\n",
       "      <td>2015.0</td>\n",
       "      <td>Universidad Nacional de La Plata</td>\n",
       "      <td>528</td>\n",
       "      <td>68.0</td>\n",
       "    </tr>\n",
       "    <tr>\n",
       "      <th>1387</th>\n",
       "      <td>2011.0</td>\n",
       "      <td>Universidad Nacional de La Plata</td>\n",
       "      <td>14</td>\n",
       "      <td>6.0</td>\n",
       "    </tr>\n",
       "    <tr>\n",
       "      <th>1391</th>\n",
       "      <td>2012.0</td>\n",
       "      <td>Universidad Nacional de La Plata</td>\n",
       "      <td>86</td>\n",
       "      <td>49.0</td>\n",
       "    </tr>\n",
       "    <tr>\n",
       "      <th>1395</th>\n",
       "      <td>2013.0</td>\n",
       "      <td>Universidad Nacional de La Plata</td>\n",
       "      <td>106</td>\n",
       "      <td>44.0</td>\n",
       "    </tr>\n",
       "    <tr>\n",
       "      <th>1400</th>\n",
       "      <td>2014.0</td>\n",
       "      <td>Universidad Nacional de La Plata</td>\n",
       "      <td>25</td>\n",
       "      <td>9.0</td>\n",
       "    </tr>\n",
       "    <tr>\n",
       "      <th>1405</th>\n",
       "      <td>2015.0</td>\n",
       "      <td>Universidad Nacional de La Plata</td>\n",
       "      <td>3</td>\n",
       "      <td>1.0</td>\n",
       "    </tr>\n",
       "  </tbody>\n",
       "</table>\n",
       "</div>"
      ],
      "text/plain": [
       "         Año                       Institución Estudiantes_Varones  \\\n",
       "57    2010.0  Universidad Nacional de La Plata                 617   \n",
       "73    2011.0  Universidad Nacional de La Plata                 755   \n",
       "91    2012.0  Universidad Nacional de La Plata                 783   \n",
       "110   2013.0  Universidad Nacional de La Plata                 839   \n",
       "129   2014.0  Universidad Nacional de La Plata                 856   \n",
       "147   2015.0  Universidad Nacional de La Plata                 946   \n",
       "185   2010.0  Universidad Nacional de La Plata               1,025   \n",
       "201   2011.0  Universidad Nacional de La Plata               1,104   \n",
       "218   2012.0  Universidad Nacional de La Plata               1,114   \n",
       "236   2013.0  Universidad Nacional de La Plata               1,126   \n",
       "253   2014.0  Universidad Nacional de La Plata               1,055   \n",
       "268   2015.0  Universidad Nacional de La Plata                 964   \n",
       "387   2010.0  Universidad Nacional de La Plata               1,339   \n",
       "411   2011.0  Universidad Nacional de La Plata               1,481   \n",
       "435   2012.0  Universidad Nacional de La Plata               1,496   \n",
       "460   2013.0  Universidad Nacional de La Plata               1,386   \n",
       "487   2014.0  Universidad Nacional de La Plata               1,370   \n",
       "514   2015.0  Universidad Nacional de La Plata               1,237   \n",
       "667   2010.0  Universidad Nacional de La Plata                 330   \n",
       "677   2011.0  Universidad Nacional de La Plata                 343   \n",
       "687   2012.0  Universidad Nacional de La Plata                 433   \n",
       "698   2013.0  Universidad Nacional de La Plata                 491   \n",
       "710   2014.0  Universidad Nacional de La Plata                 571   \n",
       "721   2015.0  Universidad Nacional de La Plata                 528   \n",
       "1387  2011.0  Universidad Nacional de La Plata                  14   \n",
       "1391  2012.0  Universidad Nacional de La Plata                  86   \n",
       "1395  2013.0  Universidad Nacional de La Plata                 106   \n",
       "1400  2014.0  Universidad Nacional de La Plata                  25   \n",
       "1405  2015.0  Universidad Nacional de La Plata                   3   \n",
       "\n",
       "      Estudiantes_Mujeres  \n",
       "57                  198.0  \n",
       "73                  213.0  \n",
       "91                  181.0  \n",
       "110                 197.0  \n",
       "129                 207.0  \n",
       "147                 236.0  \n",
       "185                 202.0  \n",
       "201                 209.0  \n",
       "218                 223.0  \n",
       "236                 218.0  \n",
       "253                 180.0  \n",
       "268                 165.0  \n",
       "387                 350.0  \n",
       "411                 369.0  \n",
       "435                 338.0  \n",
       "460                 312.0  \n",
       "487                 312.0  \n",
       "514                 255.0  \n",
       "667                  46.0  \n",
       "677                  41.0  \n",
       "687                  46.0  \n",
       "698                  57.0  \n",
       "710                  73.0  \n",
       "721                  68.0  \n",
       "1387                  6.0  \n",
       "1391                 49.0  \n",
       "1395                 44.0  \n",
       "1400                  9.0  \n",
       "1405                  1.0  "
      ]
     },
     "execution_count": 28,
     "metadata": {},
     "output_type": "execute_result"
    }
   ],
   "source": [
    "unlp"
   ]
  },
  {
   "cell_type": "markdown",
   "metadata": {
    "slideshow": {
     "slide_type": "slide"
    }
   },
   "source": [
    "# Procesamos de los datos de la UNLP\n"
   ]
  },
  {
   "cell_type": "markdown",
   "metadata": {
    "slideshow": {
     "slide_type": "fragment"
    }
   },
   "source": [
    "Un primer gráfico que podemos hacer es comparar la cantidad de total de inscriptxs durante todos los años, para los cual necesitamos el total de mujeres y el de varones:"
   ]
  },
  {
   "cell_type": "code",
   "execution_count": 29,
   "metadata": {
    "slideshow": {
     "slide_type": "fragment"
    }
   },
   "outputs": [
    {
     "data": {
      "text/plain": [
       "4805.0"
      ]
     },
     "execution_count": 29,
     "metadata": {},
     "output_type": "execute_result"
    }
   ],
   "source": [
    "unlp.Estudiantes_Mujeres.sum()"
   ]
  },
  {
   "cell_type": "code",
   "execution_count": 30,
   "metadata": {
    "slideshow": {
     "slide_type": "slide"
    }
   },
   "outputs": [
    {
     "data": {
      "text/plain": [
       "'6177557838398569461,0251,1041,1141,1261,0559641,3391,4811,4961,3861,3701,2373303434334915715281486106253'"
      ]
     },
     "execution_count": 30,
     "metadata": {},
     "output_type": "execute_result"
    }
   ],
   "source": [
    "unlp.Estudiantes_Varones.sum()\n"
   ]
  },
  {
   "cell_type": "markdown",
   "metadata": {
    "slideshow": {
     "slide_type": "fragment"
    }
   },
   "source": [
    "¿Qué creen que pasó con la información que nos muestra? Veamos los datos de la columna varones en forma individual para analizar el error."
   ]
  },
  {
   "cell_type": "code",
   "execution_count": 31,
   "metadata": {
    "slideshow": {
     "slide_type": "slide"
    }
   },
   "outputs": [
    {
     "data": {
      "text/plain": [
       "57        617\n",
       "73        755\n",
       "91        783\n",
       "110       839\n",
       "129       856\n",
       "147       946\n",
       "185     1,025\n",
       "201     1,104\n",
       "218     1,114\n",
       "236     1,126\n",
       "253     1,055\n",
       "268       964\n",
       "387     1,339\n",
       "411     1,481\n",
       "435     1,496\n",
       "460     1,386\n",
       "487     1,370\n",
       "514     1,237\n",
       "667       330\n",
       "677       343\n",
       "687       433\n",
       "698       491\n",
       "710       571\n",
       "721       528\n",
       "1387       14\n",
       "1391       86\n",
       "1395      106\n",
       "1400       25\n",
       "1405        3\n",
       "Name: Estudiantes_Varones, dtype: object"
      ]
     },
     "execution_count": 31,
     "metadata": {},
     "output_type": "execute_result"
    }
   ],
   "source": [
    "unlp.Estudiantes_Varones"
   ]
  },
  {
   "cell_type": "markdown",
   "metadata": {
    "slideshow": {
     "slide_type": "slide"
    }
   },
   "source": [
    "Tipo de datos es: object, el de la columna Mujeres es el mismo tipo?"
   ]
  },
  {
   "cell_type": "code",
   "execution_count": 29,
   "metadata": {
    "collapsed": true,
    "slideshow": {
     "slide_type": "fragment"
    }
   },
   "outputs": [
    {
     "data": {
      "text/plain": [
       "57      198.0\n",
       "73      213.0\n",
       "91      181.0\n",
       "110     197.0\n",
       "129     207.0\n",
       "147     236.0\n",
       "185     202.0\n",
       "201     209.0\n",
       "218     223.0\n",
       "236     218.0\n",
       "253     180.0\n",
       "268     165.0\n",
       "387     350.0\n",
       "411     369.0\n",
       "435     338.0\n",
       "460     312.0\n",
       "487     312.0\n",
       "514     255.0\n",
       "667      46.0\n",
       "677      41.0\n",
       "687      46.0\n",
       "698      57.0\n",
       "710      73.0\n",
       "721      68.0\n",
       "1387      6.0\n",
       "1391     49.0\n",
       "1395     44.0\n",
       "1400      9.0\n",
       "1405      1.0\n",
       "Name: Estudiantes_Mujeres, dtype: float64"
      ]
     },
     "execution_count": 29,
     "metadata": {},
     "output_type": "execute_result"
    }
   ],
   "source": [
    "unlp.Estudiantes_Mujeres"
   ]
  },
  {
   "cell_type": "markdown",
   "metadata": {
    "slideshow": {
     "slide_type": "slide"
    }
   },
   "source": [
    "Si vemos con atención en la columna de varones aparecen datos con coma, lo cual lo identifica como no numérico, para lo cual necesitamos cambiar el formato, una de las funcionalidades de panda es poder cambiar el tipo de dato:"
   ]
  },
  {
   "cell_type": "code",
   "execution_count": 32,
   "metadata": {
    "slideshow": {
     "slide_type": "slide"
    }
   },
   "outputs": [
    {
     "ename": "ValueError",
     "evalue": "invalid literal for int() with base 10: '1,025'",
     "output_type": "error",
     "traceback": [
      "\u001b[0;31m---------------------------------------------------------------------------\u001b[0m",
      "\u001b[0;31mValueError\u001b[0m                                Traceback (most recent call last)",
      "\u001b[0;32m<ipython-input-32-df028819e997>\u001b[0m in \u001b[0;36m<module>\u001b[0;34m\u001b[0m\n\u001b[0;32m----> 1\u001b[0;31m \u001b[0munlp\u001b[0m\u001b[0;34m.\u001b[0m\u001b[0mEstudiantes_Varones\u001b[0m \u001b[0;34m=\u001b[0m \u001b[0munlp\u001b[0m\u001b[0;34m.\u001b[0m\u001b[0mEstudiantes_Varones\u001b[0m\u001b[0;34m.\u001b[0m\u001b[0mastype\u001b[0m\u001b[0;34m(\u001b[0m\u001b[0mint\u001b[0m\u001b[0;34m)\u001b[0m\u001b[0;34m.\u001b[0m\u001b[0mloc\u001b[0m\u001b[0;34m[\u001b[0m\u001b[0;34m:\u001b[0m\u001b[0;34m]\u001b[0m\u001b[0;34m\u001b[0m\u001b[0;34m\u001b[0m\u001b[0m\n\u001b[0m",
      "\u001b[0;32m~/pypruebas/lib/python3.8/site-packages/pandas/core/generic.py\u001b[0m in \u001b[0;36mastype\u001b[0;34m(self, dtype, copy, errors)\u001b[0m\n\u001b[1;32m   5541\u001b[0m         \u001b[0;32melse\u001b[0m\u001b[0;34m:\u001b[0m\u001b[0;34m\u001b[0m\u001b[0;34m\u001b[0m\u001b[0m\n\u001b[1;32m   5542\u001b[0m             \u001b[0;31m# else, only a single dtype is given\u001b[0m\u001b[0;34m\u001b[0m\u001b[0;34m\u001b[0m\u001b[0;34m\u001b[0m\u001b[0m\n\u001b[0;32m-> 5543\u001b[0;31m             \u001b[0mnew_data\u001b[0m \u001b[0;34m=\u001b[0m \u001b[0mself\u001b[0m\u001b[0;34m.\u001b[0m\u001b[0m_mgr\u001b[0m\u001b[0;34m.\u001b[0m\u001b[0mastype\u001b[0m\u001b[0;34m(\u001b[0m\u001b[0mdtype\u001b[0m\u001b[0;34m=\u001b[0m\u001b[0mdtype\u001b[0m\u001b[0;34m,\u001b[0m \u001b[0mcopy\u001b[0m\u001b[0;34m=\u001b[0m\u001b[0mcopy\u001b[0m\u001b[0;34m,\u001b[0m \u001b[0merrors\u001b[0m\u001b[0;34m=\u001b[0m\u001b[0merrors\u001b[0m\u001b[0;34m,\u001b[0m\u001b[0;34m)\u001b[0m\u001b[0;34m\u001b[0m\u001b[0;34m\u001b[0m\u001b[0m\n\u001b[0m\u001b[1;32m   5544\u001b[0m             \u001b[0;32mreturn\u001b[0m \u001b[0mself\u001b[0m\u001b[0;34m.\u001b[0m\u001b[0m_constructor\u001b[0m\u001b[0;34m(\u001b[0m\u001b[0mnew_data\u001b[0m\u001b[0;34m)\u001b[0m\u001b[0;34m.\u001b[0m\u001b[0m__finalize__\u001b[0m\u001b[0;34m(\u001b[0m\u001b[0mself\u001b[0m\u001b[0;34m,\u001b[0m \u001b[0mmethod\u001b[0m\u001b[0;34m=\u001b[0m\u001b[0;34m\"astype\"\u001b[0m\u001b[0;34m)\u001b[0m\u001b[0;34m\u001b[0m\u001b[0;34m\u001b[0m\u001b[0m\n\u001b[1;32m   5545\u001b[0m \u001b[0;34m\u001b[0m\u001b[0m\n",
      "\u001b[0;32m~/pypruebas/lib/python3.8/site-packages/pandas/core/internals/managers.py\u001b[0m in \u001b[0;36mastype\u001b[0;34m(self, dtype, copy, errors)\u001b[0m\n\u001b[1;32m    593\u001b[0m         \u001b[0mself\u001b[0m\u001b[0;34m,\u001b[0m \u001b[0mdtype\u001b[0m\u001b[0;34m,\u001b[0m \u001b[0mcopy\u001b[0m\u001b[0;34m:\u001b[0m \u001b[0mbool\u001b[0m \u001b[0;34m=\u001b[0m \u001b[0;32mFalse\u001b[0m\u001b[0;34m,\u001b[0m \u001b[0merrors\u001b[0m\u001b[0;34m:\u001b[0m \u001b[0mstr\u001b[0m \u001b[0;34m=\u001b[0m \u001b[0;34m\"raise\"\u001b[0m\u001b[0;34m\u001b[0m\u001b[0;34m\u001b[0m\u001b[0m\n\u001b[1;32m    594\u001b[0m     ) -> \"BlockManager\":\n\u001b[0;32m--> 595\u001b[0;31m         \u001b[0;32mreturn\u001b[0m \u001b[0mself\u001b[0m\u001b[0;34m.\u001b[0m\u001b[0mapply\u001b[0m\u001b[0;34m(\u001b[0m\u001b[0;34m\"astype\"\u001b[0m\u001b[0;34m,\u001b[0m \u001b[0mdtype\u001b[0m\u001b[0;34m=\u001b[0m\u001b[0mdtype\u001b[0m\u001b[0;34m,\u001b[0m \u001b[0mcopy\u001b[0m\u001b[0;34m=\u001b[0m\u001b[0mcopy\u001b[0m\u001b[0;34m,\u001b[0m \u001b[0merrors\u001b[0m\u001b[0;34m=\u001b[0m\u001b[0merrors\u001b[0m\u001b[0;34m)\u001b[0m\u001b[0;34m\u001b[0m\u001b[0;34m\u001b[0m\u001b[0m\n\u001b[0m\u001b[1;32m    596\u001b[0m \u001b[0;34m\u001b[0m\u001b[0m\n\u001b[1;32m    597\u001b[0m     def convert(\n",
      "\u001b[0;32m~/pypruebas/lib/python3.8/site-packages/pandas/core/internals/managers.py\u001b[0m in \u001b[0;36mapply\u001b[0;34m(self, f, align_keys, **kwargs)\u001b[0m\n\u001b[1;32m    404\u001b[0m                 \u001b[0mapplied\u001b[0m \u001b[0;34m=\u001b[0m \u001b[0mb\u001b[0m\u001b[0;34m.\u001b[0m\u001b[0mapply\u001b[0m\u001b[0;34m(\u001b[0m\u001b[0mf\u001b[0m\u001b[0;34m,\u001b[0m \u001b[0;34m**\u001b[0m\u001b[0mkwargs\u001b[0m\u001b[0;34m)\u001b[0m\u001b[0;34m\u001b[0m\u001b[0;34m\u001b[0m\u001b[0m\n\u001b[1;32m    405\u001b[0m             \u001b[0;32melse\u001b[0m\u001b[0;34m:\u001b[0m\u001b[0;34m\u001b[0m\u001b[0;34m\u001b[0m\u001b[0m\n\u001b[0;32m--> 406\u001b[0;31m                 \u001b[0mapplied\u001b[0m \u001b[0;34m=\u001b[0m \u001b[0mgetattr\u001b[0m\u001b[0;34m(\u001b[0m\u001b[0mb\u001b[0m\u001b[0;34m,\u001b[0m \u001b[0mf\u001b[0m\u001b[0;34m)\u001b[0m\u001b[0;34m(\u001b[0m\u001b[0;34m**\u001b[0m\u001b[0mkwargs\u001b[0m\u001b[0;34m)\u001b[0m\u001b[0;34m\u001b[0m\u001b[0;34m\u001b[0m\u001b[0m\n\u001b[0m\u001b[1;32m    407\u001b[0m             \u001b[0mresult_blocks\u001b[0m \u001b[0;34m=\u001b[0m \u001b[0m_extend_blocks\u001b[0m\u001b[0;34m(\u001b[0m\u001b[0mapplied\u001b[0m\u001b[0;34m,\u001b[0m \u001b[0mresult_blocks\u001b[0m\u001b[0;34m)\u001b[0m\u001b[0;34m\u001b[0m\u001b[0;34m\u001b[0m\u001b[0m\n\u001b[1;32m    408\u001b[0m \u001b[0;34m\u001b[0m\u001b[0m\n",
      "\u001b[0;32m~/pypruebas/lib/python3.8/site-packages/pandas/core/internals/blocks.py\u001b[0m in \u001b[0;36mastype\u001b[0;34m(self, dtype, copy, errors)\u001b[0m\n\u001b[1;32m    592\u001b[0m             \u001b[0mvals1d\u001b[0m \u001b[0;34m=\u001b[0m \u001b[0mvalues\u001b[0m\u001b[0;34m.\u001b[0m\u001b[0mravel\u001b[0m\u001b[0;34m(\u001b[0m\u001b[0;34m)\u001b[0m\u001b[0;34m\u001b[0m\u001b[0;34m\u001b[0m\u001b[0m\n\u001b[1;32m    593\u001b[0m             \u001b[0;32mtry\u001b[0m\u001b[0;34m:\u001b[0m\u001b[0;34m\u001b[0m\u001b[0;34m\u001b[0m\u001b[0m\n\u001b[0;32m--> 594\u001b[0;31m                 \u001b[0mvalues\u001b[0m \u001b[0;34m=\u001b[0m \u001b[0mastype_nansafe\u001b[0m\u001b[0;34m(\u001b[0m\u001b[0mvals1d\u001b[0m\u001b[0;34m,\u001b[0m \u001b[0mdtype\u001b[0m\u001b[0;34m,\u001b[0m \u001b[0mcopy\u001b[0m\u001b[0;34m=\u001b[0m\u001b[0;32mTrue\u001b[0m\u001b[0;34m)\u001b[0m\u001b[0;34m\u001b[0m\u001b[0;34m\u001b[0m\u001b[0m\n\u001b[0m\u001b[1;32m    595\u001b[0m             \u001b[0;32mexcept\u001b[0m \u001b[0;34m(\u001b[0m\u001b[0mValueError\u001b[0m\u001b[0;34m,\u001b[0m \u001b[0mTypeError\u001b[0m\u001b[0;34m)\u001b[0m\u001b[0;34m:\u001b[0m\u001b[0;34m\u001b[0m\u001b[0;34m\u001b[0m\u001b[0m\n\u001b[1;32m    596\u001b[0m                 \u001b[0;31m# e.g. astype_nansafe can fail on object-dtype of strings\u001b[0m\u001b[0;34m\u001b[0m\u001b[0;34m\u001b[0m\u001b[0;34m\u001b[0m\u001b[0m\n",
      "\u001b[0;32m~/pypruebas/lib/python3.8/site-packages/pandas/core/dtypes/cast.py\u001b[0m in \u001b[0;36mastype_nansafe\u001b[0;34m(arr, dtype, copy, skipna)\u001b[0m\n\u001b[1;32m    965\u001b[0m         \u001b[0;31m# work around NumPy brokenness, #1987\u001b[0m\u001b[0;34m\u001b[0m\u001b[0;34m\u001b[0m\u001b[0;34m\u001b[0m\u001b[0m\n\u001b[1;32m    966\u001b[0m         \u001b[0;32mif\u001b[0m \u001b[0mnp\u001b[0m\u001b[0;34m.\u001b[0m\u001b[0missubdtype\u001b[0m\u001b[0;34m(\u001b[0m\u001b[0mdtype\u001b[0m\u001b[0;34m.\u001b[0m\u001b[0mtype\u001b[0m\u001b[0;34m,\u001b[0m \u001b[0mnp\u001b[0m\u001b[0;34m.\u001b[0m\u001b[0minteger\u001b[0m\u001b[0;34m)\u001b[0m\u001b[0;34m:\u001b[0m\u001b[0;34m\u001b[0m\u001b[0;34m\u001b[0m\u001b[0m\n\u001b[0;32m--> 967\u001b[0;31m             \u001b[0;32mreturn\u001b[0m \u001b[0mlib\u001b[0m\u001b[0;34m.\u001b[0m\u001b[0mastype_intsafe\u001b[0m\u001b[0;34m(\u001b[0m\u001b[0marr\u001b[0m\u001b[0;34m.\u001b[0m\u001b[0mravel\u001b[0m\u001b[0;34m(\u001b[0m\u001b[0;34m)\u001b[0m\u001b[0;34m,\u001b[0m \u001b[0mdtype\u001b[0m\u001b[0;34m)\u001b[0m\u001b[0;34m.\u001b[0m\u001b[0mreshape\u001b[0m\u001b[0;34m(\u001b[0m\u001b[0marr\u001b[0m\u001b[0;34m.\u001b[0m\u001b[0mshape\u001b[0m\u001b[0;34m)\u001b[0m\u001b[0;34m\u001b[0m\u001b[0;34m\u001b[0m\u001b[0m\n\u001b[0m\u001b[1;32m    968\u001b[0m \u001b[0;34m\u001b[0m\u001b[0m\n\u001b[1;32m    969\u001b[0m         \u001b[0;31m# if we have a datetime/timedelta array of objects\u001b[0m\u001b[0;34m\u001b[0m\u001b[0;34m\u001b[0m\u001b[0;34m\u001b[0m\u001b[0m\n",
      "\u001b[0;32mpandas/_libs/lib.pyx\u001b[0m in \u001b[0;36mpandas._libs.lib.astype_intsafe\u001b[0;34m()\u001b[0m\n",
      "\u001b[0;31mValueError\u001b[0m: invalid literal for int() with base 10: '1,025'"
     ]
    }
   ],
   "source": [
    "unlp.Estudiantes_Varones = unlp.Estudiantes_Varones.astype(int).loc[:]\n"
   ]
  },
  {
   "cell_type": "markdown",
   "metadata": {
    "slideshow": {
     "slide_type": "slide"
    }
   },
   "source": [
    "El error es por los datos que contienen el caracter \",\", reemplacemos estos caracteres por vacío:\n"
   ]
  },
  {
   "cell_type": "code",
   "execution_count": 34,
   "metadata": {
    "slideshow": {
     "slide_type": "fragment"
    }
   },
   "outputs": [
    {
     "data": {
      "text/plain": [
       "57       617\n",
       "73       755\n",
       "91       783\n",
       "110      839\n",
       "129      856\n",
       "147      946\n",
       "185     1025\n",
       "201     1104\n",
       "218     1114\n",
       "236     1126\n",
       "253     1055\n",
       "268      964\n",
       "387     1339\n",
       "411     1481\n",
       "435     1496\n",
       "460     1386\n",
       "487     1370\n",
       "514     1237\n",
       "667      330\n",
       "677      343\n",
       "687      433\n",
       "698      491\n",
       "710      571\n",
       "721      528\n",
       "1387      14\n",
       "1391      86\n",
       "1395     106\n",
       "1400      25\n",
       "1405       3\n",
       "Name: Estudiantes_Varones, dtype: object"
      ]
     },
     "execution_count": 34,
     "metadata": {},
     "output_type": "execute_result"
    }
   ],
   "source": [
    "unlp.Estudiantes_Varones = [c.replace(',','') for c in unlp.Estudiantes_Varones]\n",
    "unlp.Estudiantes_Varones"
   ]
  },
  {
   "cell_type": "markdown",
   "metadata": {
    "slideshow": {
     "slide_type": "slide"
    }
   },
   "source": [
    "Veamos los datos y obtengamos la suma:"
   ]
  },
  {
   "cell_type": "code",
   "execution_count": 35,
   "metadata": {
    "slideshow": {
     "slide_type": "fragment"
    }
   },
   "outputs": [
    {
     "data": {
      "text/plain": [
       "57       617\n",
       "73       755\n",
       "91       783\n",
       "110      839\n",
       "129      856\n",
       "147      946\n",
       "185     1025\n",
       "201     1104\n",
       "218     1114\n",
       "236     1126\n",
       "253     1055\n",
       "268      964\n",
       "387     1339\n",
       "411     1481\n",
       "435     1496\n",
       "460     1386\n",
       "487     1370\n",
       "514     1237\n",
       "667      330\n",
       "677      343\n",
       "687      433\n",
       "698      491\n",
       "710      571\n",
       "721      528\n",
       "1387      14\n",
       "1391      86\n",
       "1395     106\n",
       "1400      25\n",
       "1405       3\n",
       "Name: Estudiantes_Varones, dtype: object"
      ]
     },
     "execution_count": 35,
     "metadata": {},
     "output_type": "execute_result"
    }
   ],
   "source": [
    "unlp.Estudiantes_Varones"
   ]
  },
  {
   "cell_type": "code",
   "execution_count": 36,
   "metadata": {
    "slideshow": {
     "slide_type": "slide"
    }
   },
   "outputs": [],
   "source": [
    "unlp.Estudiantes_Varones = unlp.Estudiantes_Varones.astype(int).loc[:]"
   ]
  },
  {
   "cell_type": "code",
   "execution_count": 37,
   "metadata": {
    "slideshow": {
     "slide_type": "fragment"
    }
   },
   "outputs": [
    {
     "data": {
      "text/plain": [
       "22423"
      ]
     },
     "execution_count": 37,
     "metadata": {},
     "output_type": "execute_result"
    }
   ],
   "source": [
    "unlp.Estudiantes_Varones.sum()\n"
   ]
  },
  {
   "cell_type": "markdown",
   "metadata": {
    "slideshow": {
     "slide_type": "fragment"
    }
   },
   "source": [
    "Bueno ya tenemos el total de mujeres y varones, luego de algunas vueltitas, de la UNLP.\n",
    "\n",
    "Podemos pasar a entero la cantidad de mujeres (que estaba en float)."
   ]
  },
  {
   "cell_type": "code",
   "execution_count": 38,
   "metadata": {
    "slideshow": {
     "slide_type": "slide"
    }
   },
   "outputs": [
    {
     "data": {
      "text/plain": [
       "57      198\n",
       "73      213\n",
       "91      181\n",
       "110     197\n",
       "129     207\n",
       "147     236\n",
       "185     202\n",
       "201     209\n",
       "218     223\n",
       "236     218\n",
       "253     180\n",
       "268     165\n",
       "387     350\n",
       "411     369\n",
       "435     338\n",
       "460     312\n",
       "487     312\n",
       "514     255\n",
       "667      46\n",
       "677      41\n",
       "687      46\n",
       "698      57\n",
       "710      73\n",
       "721      68\n",
       "1387      6\n",
       "1391     49\n",
       "1395     44\n",
       "1400      9\n",
       "1405      1\n",
       "Name: Estudiantes_Mujeres, dtype: int64"
      ]
     },
     "execution_count": 38,
     "metadata": {},
     "output_type": "execute_result"
    }
   ],
   "source": [
    "unlp.Estudiantes_Mujeres = unlp.Estudiantes_Mujeres.astype(int).loc[:]\n",
    "unlp.Estudiantes_Mujeres"
   ]
  },
  {
   "cell_type": "code",
   "execution_count": 39,
   "metadata": {
    "slideshow": {
     "slide_type": "slide"
    }
   },
   "outputs": [],
   "source": [
    "total_mujeres = unlp.Estudiantes_Mujeres.sum()\n",
    "total_varones = unlp.Estudiantes_Varones.sum()"
   ]
  },
  {
   "cell_type": "code",
   "execution_count": 40,
   "metadata": {
    "slideshow": {
     "slide_type": "fragment"
    }
   },
   "outputs": [
    {
     "name": "stdout",
     "output_type": "stream",
     "text": [
      "4805 22423\n"
     ]
    }
   ],
   "source": [
    "print(total_mujeres, total_varones)"
   ]
  },
  {
   "cell_type": "markdown",
   "metadata": {
    "slideshow": {
     "slide_type": "slide"
    }
   },
   "source": [
    "Un gráfico muy simple que se puede hacer para mostrar los datos comparativos es el de torta:"
   ]
  },
  {
   "cell_type": "code",
   "execution_count": 41,
   "metadata": {
    "slideshow": {
     "slide_type": "fragment"
    }
   },
   "outputs": [],
   "source": [
    "data_dibujo = [total_mujeres, total_varones]"
   ]
  },
  {
   "cell_type": "code",
   "execution_count": 43,
   "metadata": {
    "slideshow": {
     "slide_type": "slide"
    }
   },
   "outputs": [
    {
     "data": {
      "image/png": "[encoded data removed]",
      "text/plain": [
       "<Figure size 432x288 with 1 Axes>"
      ]
     },
     "metadata": {},
     "output_type": "display_data"
    }
   ],
   "source": [
    "etiquetas = \"Mujeres\", \"Varones\"\n",
    "explode = (0.1, 0)\n",
    "\n",
    "plt.pie(data_dibujo, explode=explode, labels=etiquetas, autopct='%1.1f%%',\n",
    "        shadow=True, startangle=90, labeldistance= 1.1)\n",
    "plt.axis('equal') \n",
    "plt.legend(etiquetas)\n",
    "plt.title(\"Cantidad inscriptxs carreras técnicas 2010-2015\")\n",
    "\n",
    "plt.show()"
   ]
  },
  {
   "cell_type": "markdown",
   "metadata": {
    "slideshow": {
     "slide_type": "fragment"
    }
   },
   "source": [
    "Todas las [opciones](https://matplotlib.org/3.1.1/api/_as_gen/matplotlib.pyplot.pie.html) para nuestro gráfico."
   ]
  },
  {
   "cell_type": "markdown",
   "metadata": {
    "slideshow": {
     "slide_type": "slide"
    }
   },
   "source": [
    "Podemos también armar un gráfico de barras"
   ]
  },
  {
   "cell_type": "code",
   "execution_count": 39,
   "metadata": {
    "slideshow": {
     "slide_type": "fragment"
    }
   },
   "outputs": [
    {
     "data": {
      "image/png": "[encoded data removed]",
      "text/plain": [
       "<Figure size 576x288 with 1 Axes>"
      ]
     },
     "metadata": {
      "needs_background": "light"
     },
     "output_type": "display_data"
    }
   ],
   "source": [
    "register = 1,2\n",
    "etiquetas = \"Mujeres\", \"Varones\"\n",
    "plt.figure(figsize = (8,4))\n",
    "b = plt.bar(register, data_dibujo, width = 0.5, color = (\"m\",\"r\"), edgecolor='black')\n",
    "plt.title(\"Cantidad inscriptxs carreras técnicas\")\n",
    "plt.xticks(register, etiquetas)\n",
    "plt.legend(b, etiquetas, fontsize=15)\n",
    "plt.show()"
   ]
  },
  {
   "cell_type": "markdown",
   "metadata": {},
   "source": [
    "### Si queremos mostrar la evolución de mujeres inscriptas en UNLP desde 2010 a 2015, ¿cómo deberíamos armar los datos?. \n",
    "\n",
    "Veamos cómo tenemos los datos:"
   ]
  },
  {
   "cell_type": "code",
   "execution_count": 40,
   "metadata": {},
   "outputs": [
    {
     "data": {
      "text/html": [
       "<div>\n",
       "<style scoped>\n",
       "    .dataframe tbody tr th:only-of-type {\n",
       "        vertical-align: middle;\n",
       "    }\n",
       "\n",
       "    .dataframe tbody tr th {\n",
       "        vertical-align: top;\n",
       "    }\n",
       "\n",
       "    .dataframe thead th {\n",
       "        text-align: right;\n",
       "    }\n",
       "</style>\n",
       "<table border=\"1\" class=\"dataframe\">\n",
       "  <thead>\n",
       "    <tr style=\"text-align: right;\">\n",
       "      <th></th>\n",
       "      <th>Año</th>\n",
       "      <th>Estudiantes_Mujeres</th>\n",
       "    </tr>\n",
       "  </thead>\n",
       "  <tbody>\n",
       "    <tr>\n",
       "      <th>57</th>\n",
       "      <td>2010.0</td>\n",
       "      <td>198</td>\n",
       "    </tr>\n",
       "    <tr>\n",
       "      <th>73</th>\n",
       "      <td>2011.0</td>\n",
       "      <td>213</td>\n",
       "    </tr>\n",
       "    <tr>\n",
       "      <th>91</th>\n",
       "      <td>2012.0</td>\n",
       "      <td>181</td>\n",
       "    </tr>\n",
       "    <tr>\n",
       "      <th>110</th>\n",
       "      <td>2013.0</td>\n",
       "      <td>197</td>\n",
       "    </tr>\n",
       "    <tr>\n",
       "      <th>129</th>\n",
       "      <td>2014.0</td>\n",
       "      <td>207</td>\n",
       "    </tr>\n",
       "    <tr>\n",
       "      <th>147</th>\n",
       "      <td>2015.0</td>\n",
       "      <td>236</td>\n",
       "    </tr>\n",
       "    <tr>\n",
       "      <th>185</th>\n",
       "      <td>2010.0</td>\n",
       "      <td>202</td>\n",
       "    </tr>\n",
       "    <tr>\n",
       "      <th>201</th>\n",
       "      <td>2011.0</td>\n",
       "      <td>209</td>\n",
       "    </tr>\n",
       "    <tr>\n",
       "      <th>218</th>\n",
       "      <td>2012.0</td>\n",
       "      <td>223</td>\n",
       "    </tr>\n",
       "    <tr>\n",
       "      <th>236</th>\n",
       "      <td>2013.0</td>\n",
       "      <td>218</td>\n",
       "    </tr>\n",
       "    <tr>\n",
       "      <th>253</th>\n",
       "      <td>2014.0</td>\n",
       "      <td>180</td>\n",
       "    </tr>\n",
       "    <tr>\n",
       "      <th>268</th>\n",
       "      <td>2015.0</td>\n",
       "      <td>165</td>\n",
       "    </tr>\n",
       "    <tr>\n",
       "      <th>387</th>\n",
       "      <td>2010.0</td>\n",
       "      <td>350</td>\n",
       "    </tr>\n",
       "    <tr>\n",
       "      <th>411</th>\n",
       "      <td>2011.0</td>\n",
       "      <td>369</td>\n",
       "    </tr>\n",
       "    <tr>\n",
       "      <th>435</th>\n",
       "      <td>2012.0</td>\n",
       "      <td>338</td>\n",
       "    </tr>\n",
       "    <tr>\n",
       "      <th>460</th>\n",
       "      <td>2013.0</td>\n",
       "      <td>312</td>\n",
       "    </tr>\n",
       "    <tr>\n",
       "      <th>487</th>\n",
       "      <td>2014.0</td>\n",
       "      <td>312</td>\n",
       "    </tr>\n",
       "    <tr>\n",
       "      <th>514</th>\n",
       "      <td>2015.0</td>\n",
       "      <td>255</td>\n",
       "    </tr>\n",
       "    <tr>\n",
       "      <th>667</th>\n",
       "      <td>2010.0</td>\n",
       "      <td>46</td>\n",
       "    </tr>\n",
       "    <tr>\n",
       "      <th>677</th>\n",
       "      <td>2011.0</td>\n",
       "      <td>41</td>\n",
       "    </tr>\n",
       "    <tr>\n",
       "      <th>687</th>\n",
       "      <td>2012.0</td>\n",
       "      <td>46</td>\n",
       "    </tr>\n",
       "    <tr>\n",
       "      <th>698</th>\n",
       "      <td>2013.0</td>\n",
       "      <td>57</td>\n",
       "    </tr>\n",
       "    <tr>\n",
       "      <th>710</th>\n",
       "      <td>2014.0</td>\n",
       "      <td>73</td>\n",
       "    </tr>\n",
       "    <tr>\n",
       "      <th>721</th>\n",
       "      <td>2015.0</td>\n",
       "      <td>68</td>\n",
       "    </tr>\n",
       "    <tr>\n",
       "      <th>1387</th>\n",
       "      <td>2011.0</td>\n",
       "      <td>6</td>\n",
       "    </tr>\n",
       "    <tr>\n",
       "      <th>1391</th>\n",
       "      <td>2012.0</td>\n",
       "      <td>49</td>\n",
       "    </tr>\n",
       "    <tr>\n",
       "      <th>1395</th>\n",
       "      <td>2013.0</td>\n",
       "      <td>44</td>\n",
       "    </tr>\n",
       "    <tr>\n",
       "      <th>1400</th>\n",
       "      <td>2014.0</td>\n",
       "      <td>9</td>\n",
       "    </tr>\n",
       "    <tr>\n",
       "      <th>1405</th>\n",
       "      <td>2015.0</td>\n",
       "      <td>1</td>\n",
       "    </tr>\n",
       "  </tbody>\n",
       "</table>\n",
       "</div>"
      ],
      "text/plain": [
       "         Año  Estudiantes_Mujeres\n",
       "57    2010.0                  198\n",
       "73    2011.0                  213\n",
       "91    2012.0                  181\n",
       "110   2013.0                  197\n",
       "129   2014.0                  207\n",
       "147   2015.0                  236\n",
       "185   2010.0                  202\n",
       "201   2011.0                  209\n",
       "218   2012.0                  223\n",
       "236   2013.0                  218\n",
       "253   2014.0                  180\n",
       "268   2015.0                  165\n",
       "387   2010.0                  350\n",
       "411   2011.0                  369\n",
       "435   2012.0                  338\n",
       "460   2013.0                  312\n",
       "487   2014.0                  312\n",
       "514   2015.0                  255\n",
       "667   2010.0                   46\n",
       "677   2011.0                   41\n",
       "687   2012.0                   46\n",
       "698   2013.0                   57\n",
       "710   2014.0                   73\n",
       "721   2015.0                   68\n",
       "1387  2011.0                    6\n",
       "1391  2012.0                   49\n",
       "1395  2013.0                   44\n",
       "1400  2014.0                    9\n",
       "1405  2015.0                    1"
      ]
     },
     "execution_count": 40,
     "metadata": {},
     "output_type": "execute_result"
    }
   ],
   "source": [
    "unlp[[\"Año\", \"Estudiantes_Mujeres\"]]"
   ]
  },
  {
   "cell_type": "code",
   "execution_count": 41,
   "metadata": {},
   "outputs": [
    {
     "data": {
      "text/plain": [
       "array([2010., 2011., 2012., 2013., 2014., 2015.])"
      ]
     },
     "execution_count": 41,
     "metadata": {},
     "output_type": "execute_result"
    }
   ],
   "source": [
    "unlp.Año.unique()"
   ]
  },
  {
   "cell_type": "markdown",
   "metadata": {},
   "source": [
    "¿Qué tipo de datos es la columna **Año**?"
   ]
  },
  {
   "cell_type": "code",
   "execution_count": 42,
   "metadata": {},
   "outputs": [
    {
     "data": {
      "text/plain": [
       "57      2010.0\n",
       "73      2011.0\n",
       "91      2012.0\n",
       "110     2013.0\n",
       "129     2014.0\n",
       "147     2015.0\n",
       "185     2010.0\n",
       "201     2011.0\n",
       "218     2012.0\n",
       "236     2013.0\n",
       "253     2014.0\n",
       "268     2015.0\n",
       "387     2010.0\n",
       "411     2011.0\n",
       "435     2012.0\n",
       "460     2013.0\n",
       "487     2014.0\n",
       "514     2015.0\n",
       "667     2010.0\n",
       "677     2011.0\n",
       "687     2012.0\n",
       "698     2013.0\n",
       "710     2014.0\n",
       "721     2015.0\n",
       "1387    2011.0\n",
       "1391    2012.0\n",
       "1395    2013.0\n",
       "1400    2014.0\n",
       "1405    2015.0\n",
       "Name: Año, dtype: float64"
      ]
     },
     "execution_count": 42,
     "metadata": {},
     "output_type": "execute_result"
    }
   ],
   "source": [
    "unlp.Año"
   ]
  },
  {
   "cell_type": "markdown",
   "metadata": {},
   "source": [
    "Convirtamos el tipo del campo Año a **int** lo cual es mas natural para este tipo de datos"
   ]
  },
  {
   "cell_type": "code",
   "execution_count": 43,
   "metadata": {},
   "outputs": [],
   "source": [
    "unlp.Año = unlp.Año.astype(int).loc[:]"
   ]
  },
  {
   "cell_type": "code",
   "execution_count": 44,
   "metadata": {},
   "outputs": [
    {
     "data": {
      "text/plain": [
       "Año                                                                 8040\n",
       "Institución            Universidad Nacional de La PlataUniversidad Na...\n",
       "Estudiantes_Varones                                                 3311\n",
       "Estudiantes_Mujeres                                                  796\n",
       "dtype: object"
      ]
     },
     "execution_count": 44,
     "metadata": {},
     "output_type": "execute_result"
    }
   ],
   "source": [
    "unlp[unlp[\"Año\"]==2010].sum()"
   ]
  },
  {
   "cell_type": "code",
   "execution_count": 45,
   "metadata": {},
   "outputs": [],
   "source": [
    "datos_graficar = unlp.groupby([\"Año\"]).sum().reset_index()"
   ]
  },
  {
   "cell_type": "markdown",
   "metadata": {},
   "source": [
    "**reset_index** sirve para que los índices comiencen desde 0 y no mantenga el índice original."
   ]
  },
  {
   "cell_type": "code",
   "execution_count": 46,
   "metadata": {},
   "outputs": [
    {
     "data": {
      "text/html": [
       "<div>\n",
       "<style scoped>\n",
       "    .dataframe tbody tr th:only-of-type {\n",
       "        vertical-align: middle;\n",
       "    }\n",
       "\n",
       "    .dataframe tbody tr th {\n",
       "        vertical-align: top;\n",
       "    }\n",
       "\n",
       "    .dataframe thead th {\n",
       "        text-align: right;\n",
       "    }\n",
       "</style>\n",
       "<table border=\"1\" class=\"dataframe\">\n",
       "  <thead>\n",
       "    <tr style=\"text-align: right;\">\n",
       "      <th></th>\n",
       "      <th>Año</th>\n",
       "      <th>Estudiantes_Varones</th>\n",
       "      <th>Estudiantes_Mujeres</th>\n",
       "    </tr>\n",
       "  </thead>\n",
       "  <tbody>\n",
       "    <tr>\n",
       "      <th>0</th>\n",
       "      <td>2010</td>\n",
       "      <td>3311</td>\n",
       "      <td>796</td>\n",
       "    </tr>\n",
       "    <tr>\n",
       "      <th>1</th>\n",
       "      <td>2011</td>\n",
       "      <td>3697</td>\n",
       "      <td>838</td>\n",
       "    </tr>\n",
       "    <tr>\n",
       "      <th>2</th>\n",
       "      <td>2012</td>\n",
       "      <td>3912</td>\n",
       "      <td>837</td>\n",
       "    </tr>\n",
       "    <tr>\n",
       "      <th>3</th>\n",
       "      <td>2013</td>\n",
       "      <td>3948</td>\n",
       "      <td>828</td>\n",
       "    </tr>\n",
       "    <tr>\n",
       "      <th>4</th>\n",
       "      <td>2014</td>\n",
       "      <td>3877</td>\n",
       "      <td>781</td>\n",
       "    </tr>\n",
       "    <tr>\n",
       "      <th>5</th>\n",
       "      <td>2015</td>\n",
       "      <td>3678</td>\n",
       "      <td>725</td>\n",
       "    </tr>\n",
       "  </tbody>\n",
       "</table>\n",
       "</div>"
      ],
      "text/plain": [
       "    Año  Estudiantes_Varones  Estudiantes_Mujeres\n",
       "0  2010                 3311                  796\n",
       "1  2011                 3697                  838\n",
       "2  2012                 3912                  837\n",
       "3  2013                 3948                  828\n",
       "4  2014                 3877                  781\n",
       "5  2015                 3678                  725"
      ]
     },
     "execution_count": 46,
     "metadata": {},
     "output_type": "execute_result"
    }
   ],
   "source": [
    "datos_graficar"
   ]
  },
  {
   "cell_type": "code",
   "execution_count": 47,
   "metadata": {},
   "outputs": [],
   "source": [
    "cantidades_mujeres= list(datos_graficar['Estudiantes_Mujeres'])\n",
    "cantidades_varones= list(datos_graficar['Estudiantes_Varones'])\n",
    "etiquetas = list(datos_graficar['Año'])\n",
    "data_dibujo = [cantidades_mujeres,cantidades_varones ]"
   ]
  },
  {
   "cell_type": "code",
   "execution_count": 48,
   "metadata": {},
   "outputs": [
    {
     "data": {
      "image/png": "[encoded data removed]",
      "text/plain": [
       "<Figure size 432x288 with 1 Axes>"
      ]
     },
     "metadata": {
      "needs_background": "light"
     },
     "output_type": "display_data"
    }
   ],
   "source": [
    "\n",
    "b = plt.bar(etiquetas, data_dibujo[0],  width=0.4, color=['black', 'red', 'green', 'blue', 'cyan'])\n",
    "plt.title(\"Cantidad de mujeres inscriptas en UNLP\")\n",
    "plt.show()"
   ]
  },
  {
   "cell_type": "markdown",
   "metadata": {},
   "source": [
    "Podemos mostrar los datos comparativos de la cantidad entre mujeres y varones con barra horizontal"
   ]
  },
  {
   "cell_type": "code",
   "execution_count": 50,
   "metadata": {},
   "outputs": [
    {
     "data": {
      "image/png": "[encoded data removed]",
      "text/plain": [
       "<Figure size 432x288 with 1 Axes>"
      ]
     },
     "metadata": {
      "needs_background": "light"
     },
     "output_type": "display_data"
    }
   ],
   "source": [
    "x = np.arange(len(etiquetas))\n",
    "plt.barh(x + 0.00, data_dibujo[0], color=\"b\", height=0.25, label = \"mujeres\")\n",
    "plt.barh(x + 0.25, data_dibujo[1], color=\"r\", height=0.25, label = \"varones\")\n",
    "plt.title(\"Cant inscriptos carreras técnicas\")\n",
    "plt.yticks(x, etiquetas)\n",
    "plt.legend(fontsize = 15, loc = (1.1, 0.4))\n",
    "plt.show()"
   ]
  },
  {
   "cell_type": "markdown",
   "metadata": {},
   "source": [
    "El siguiente gráfico se llama: **Stacked Bar Graph**"
   ]
  },
  {
   "cell_type": "code",
   "execution_count": 52,
   "metadata": {},
   "outputs": [
    {
     "data": {
      "image/png": "[encoded data removed]",
      "text/plain": [
       "<Figure size 432x288 with 1 Axes>"
      ]
     },
     "metadata": {
      "needs_background": "light"
     },
     "output_type": "display_data"
    }
   ],
   "source": [
    "x = np.arange(len(etiquetas))\n",
    "plt.bar(x, data_dibujo[0], color=\"b\",  label = \"mujeres\")\n",
    "plt.bar(x, data_dibujo[1],  bottom = data_dibujo[0], color=\"r\", label = \"varones\")\n",
    "\n",
    "plt.title(\"Cantidad de inscriptos en carreras técnicas\")\n",
    "\n",
    "plt.legend(fontsize = 15, loc = (1.05, 0.4))\n",
    "plt.show()"
   ]
  },
  {
   "cell_type": "markdown",
   "metadata": {},
   "source": [
    "Si queremos mostrar los datos indexados por el número de línea luego de haber hecho una selección de datos podemos usar **reset_index()**"
   ]
  },
  {
   "cell_type": "code",
   "execution_count": 53,
   "metadata": {},
   "outputs": [
    {
     "data": {
      "text/html": [
       "<div>\n",
       "<style scoped>\n",
       "    .dataframe tbody tr th:only-of-type {\n",
       "        vertical-align: middle;\n",
       "    }\n",
       "\n",
       "    .dataframe tbody tr th {\n",
       "        vertical-align: top;\n",
       "    }\n",
       "\n",
       "    .dataframe thead th {\n",
       "        text-align: right;\n",
       "    }\n",
       "</style>\n",
       "<table border=\"1\" class=\"dataframe\">\n",
       "  <thead>\n",
       "    <tr style=\"text-align: right;\">\n",
       "      <th></th>\n",
       "      <th>Año</th>\n",
       "      <th>Estudiantes_Varones</th>\n",
       "      <th>Estudiantes_Mujeres</th>\n",
       "    </tr>\n",
       "  </thead>\n",
       "  <tbody>\n",
       "    <tr>\n",
       "      <th>0</th>\n",
       "      <td>2010</td>\n",
       "      <td>3311</td>\n",
       "      <td>796</td>\n",
       "    </tr>\n",
       "    <tr>\n",
       "      <th>1</th>\n",
       "      <td>2011</td>\n",
       "      <td>3697</td>\n",
       "      <td>838</td>\n",
       "    </tr>\n",
       "    <tr>\n",
       "      <th>2</th>\n",
       "      <td>2012</td>\n",
       "      <td>3912</td>\n",
       "      <td>837</td>\n",
       "    </tr>\n",
       "    <tr>\n",
       "      <th>3</th>\n",
       "      <td>2013</td>\n",
       "      <td>3948</td>\n",
       "      <td>828</td>\n",
       "    </tr>\n",
       "    <tr>\n",
       "      <th>4</th>\n",
       "      <td>2014</td>\n",
       "      <td>3877</td>\n",
       "      <td>781</td>\n",
       "    </tr>\n",
       "    <tr>\n",
       "      <th>5</th>\n",
       "      <td>2015</td>\n",
       "      <td>3678</td>\n",
       "      <td>725</td>\n",
       "    </tr>\n",
       "  </tbody>\n",
       "</table>\n",
       "</div>"
      ],
      "text/plain": [
       "    Año  Estudiantes_Varones  Estudiantes_Mujeres\n",
       "0  2010                 3311                  796\n",
       "1  2011                 3697                  838\n",
       "2  2012                 3912                  837\n",
       "3  2013                 3948                  828\n",
       "4  2014                 3877                  781\n",
       "5  2015                 3678                  725"
      ]
     },
     "execution_count": 53,
     "metadata": {},
     "output_type": "execute_result"
    }
   ],
   "source": [
    "datos_mujeres = unlp.groupby(['Año']).sum().reset_index()\n",
    "datos_mujeres"
   ]
  },
  {
   "cell_type": "code",
   "execution_count": 54,
   "metadata": {},
   "outputs": [
    {
     "name": "stdout",
     "output_type": "stream",
     "text": [
      "Variable             Type            Data/Info\n",
      "----------------------------------------------\n",
      "b                    BarContainer    <BarContainer object of 6 artists>\n",
      "cambios              dict            n=1\n",
      "cantidades_mujeres   list            n=6\n",
      "cantidades_varones   list            n=6\n",
      "data                 DataFrame                Año             <...>\\n[1713 rows x 4 columns]\n",
      "data_dibujo          list            n=2\n",
      "datos_graficar       DataFrame           Año  Estudiantes_Varo<...>3678                  725\n",
      "datos_mujeres        DataFrame           Año  Estudiantes_Varo<...>3678                  725\n",
      "etiquetas            list            n=6\n",
      "explode              tuple           n=2\n",
      "lista1               Series          755                Instit<...>Length: 84, dtype: object\n",
      "np                   module          <module 'numpy' from '/us<...>kages/numpy/__init__.py'>\n",
      "pd                   module          <module 'pandas' from '/u<...>ages/pandas/__init__.py'>\n",
      "plt                  module          <module 'matplotlib.pyplo<...>es/matplotlib/pyplot.py'>\n",
      "register             tuple           n=2\n",
      "sample_data          DataFrame                Año             <...>n[1713 rows x 21 columns]\n",
      "total_mujeres        int64           4805\n",
      "total_varones        int64           22423\n",
      "unlp                 DataFrame              Año               <...>05                    1  \n",
      "x                    ndarray         6: 6 elems, type `int64`, 48 bytes\n"
     ]
    }
   ],
   "source": [
    "whos"
   ]
  },
  {
   "cell_type": "markdown",
   "metadata": {},
   "source": [
    "# Repasamos el tutorial de Marc García\n",
    "\n",
    "El video del tutorial está disponible en [Peertube](https://p.eertu.be/videos/watch/191a5541-a075-4c73-a204-61c3b8d9055f)\n",
    "\n",
    "Veamos el [tutorial de Marc](tutorial-musica-latina-master/Song%20analysis.ipynb)"
   ]
  }
 ],
 "metadata": {
  "celltoolbar": "Slideshow",
  "kernelspec": {
   "display_name": "Python 3",
   "language": "python",
   "name": "python3"
  },
  "language_info": {
   "codemirror_mode": {
    "name": "ipython",
    "version": 3
   },
   "file_extension": ".py",
   "mimetype": "text/x-python",
   "name": "python",
   "nbconvert_exporter": "python",
   "pygments_lexer": "ipython3",
   "version": "3.8.5"
  }
 },
 "nbformat": 4,
 "nbformat_minor": 2
}
